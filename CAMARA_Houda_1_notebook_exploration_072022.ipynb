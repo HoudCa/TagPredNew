{
  "nbformat": 4,
  "nbformat_minor": 0,
  "metadata": {
    "colab": {
      "name": "CAMARA_Houda_notebook_exploration_072022.ipynb",
      "provenance": [],
      "collapsed_sections": []
    },
    "kernelspec": {
      "name": "python3",
      "display_name": "Python 3"
    },
    "language_info": {
      "name": "python"
    }
  },
  "cells": [
    {
      "cell_type": "code",
      "execution_count": null,
      "metadata": {
        "id": "36068e97",
        "outputId": "9f603f0c-3d71-42cb-fe2f-febb39f13c11"
      },
      "outputs": [
        {
          "name": "stderr",
          "output_type": "stream",
          "text": [
            "C:\\Users\\Houda\\Anaconda3\\envs\\MyEnvironmentName\\lib\\site-packages\\tqdm\\auto.py:22: TqdmWarning: IProgress not found. Please update jupyter and ipywidgets. See https://ipywidgets.readthedocs.io/en/stable/user_install.html\n",
            "  from .autonotebook import tqdm as notebook_tqdm\n",
            "[nltk_data] Downloading package punkt to\n",
            "[nltk_data]     C:\\Users\\Houda\\AppData\\Roaming\\nltk_data...\n",
            "[nltk_data]   Package punkt is already up-to-date!\n",
            "[nltk_data] Downloading collection 'all'\n",
            "[nltk_data]    | \n",
            "[nltk_data]    | Downloading package abc to\n",
            "[nltk_data]    |     C:\\Users\\Houda\\AppData\\Roaming\\nltk_data...\n",
            "[nltk_data]    |   Package abc is already up-to-date!\n",
            "[nltk_data]    | Downloading package alpino to\n",
            "[nltk_data]    |     C:\\Users\\Houda\\AppData\\Roaming\\nltk_data...\n",
            "[nltk_data]    |   Package alpino is already up-to-date!\n",
            "[nltk_data]    | Downloading package averaged_perceptron_tagger to\n",
            "[nltk_data]    |     C:\\Users\\Houda\\AppData\\Roaming\\nltk_data...\n",
            "[nltk_data]    |   Package averaged_perceptron_tagger is already up-\n",
            "[nltk_data]    |       to-date!\n",
            "[nltk_data]    | Downloading package averaged_perceptron_tagger_ru to\n",
            "[nltk_data]    |     C:\\Users\\Houda\\AppData\\Roaming\\nltk_data...\n",
            "[nltk_data]    |   Package averaged_perceptron_tagger_ru is already\n",
            "[nltk_data]    |       up-to-date!\n",
            "[nltk_data]    | Downloading package basque_grammars to\n",
            "[nltk_data]    |     C:\\Users\\Houda\\AppData\\Roaming\\nltk_data...\n",
            "[nltk_data]    |   Package basque_grammars is already up-to-date!\n",
            "[nltk_data]    | Downloading package biocreative_ppi to\n",
            "[nltk_data]    |     C:\\Users\\Houda\\AppData\\Roaming\\nltk_data...\n",
            "[nltk_data]    |   Package biocreative_ppi is already up-to-date!\n",
            "[nltk_data]    | Downloading package bllip_wsj_no_aux to\n",
            "[nltk_data]    |     C:\\Users\\Houda\\AppData\\Roaming\\nltk_data...\n",
            "[nltk_data]    |   Package bllip_wsj_no_aux is already up-to-date!\n",
            "[nltk_data]    | Downloading package book_grammars to\n",
            "[nltk_data]    |     C:\\Users\\Houda\\AppData\\Roaming\\nltk_data...\n",
            "[nltk_data]    |   Package book_grammars is already up-to-date!\n",
            "[nltk_data]    | Downloading package brown to\n",
            "[nltk_data]    |     C:\\Users\\Houda\\AppData\\Roaming\\nltk_data...\n",
            "[nltk_data]    |   Package brown is already up-to-date!\n",
            "[nltk_data]    | Downloading package brown_tei to\n",
            "[nltk_data]    |     C:\\Users\\Houda\\AppData\\Roaming\\nltk_data...\n",
            "[nltk_data]    |   Package brown_tei is already up-to-date!\n",
            "[nltk_data]    | Downloading package cess_cat to\n",
            "[nltk_data]    |     C:\\Users\\Houda\\AppData\\Roaming\\nltk_data...\n",
            "[nltk_data]    |   Package cess_cat is already up-to-date!\n",
            "[nltk_data]    | Downloading package cess_esp to\n",
            "[nltk_data]    |     C:\\Users\\Houda\\AppData\\Roaming\\nltk_data...\n",
            "[nltk_data]    |   Package cess_esp is already up-to-date!\n",
            "[nltk_data]    | Downloading package chat80 to\n",
            "[nltk_data]    |     C:\\Users\\Houda\\AppData\\Roaming\\nltk_data...\n",
            "[nltk_data]    |   Package chat80 is already up-to-date!\n",
            "[nltk_data]    | Downloading package city_database to\n",
            "[nltk_data]    |     C:\\Users\\Houda\\AppData\\Roaming\\nltk_data...\n",
            "[nltk_data]    |   Package city_database is already up-to-date!\n",
            "[nltk_data]    | Downloading package cmudict to\n",
            "[nltk_data]    |     C:\\Users\\Houda\\AppData\\Roaming\\nltk_data...\n",
            "[nltk_data]    |   Package cmudict is already up-to-date!\n",
            "[nltk_data]    | Downloading package comparative_sentences to\n",
            "[nltk_data]    |     C:\\Users\\Houda\\AppData\\Roaming\\nltk_data...\n",
            "[nltk_data]    |   Package comparative_sentences is already up-to-\n",
            "[nltk_data]    |       date!\n",
            "[nltk_data]    | Downloading package comtrans to\n",
            "[nltk_data]    |     C:\\Users\\Houda\\AppData\\Roaming\\nltk_data...\n",
            "[nltk_data]    |   Package comtrans is already up-to-date!\n",
            "[nltk_data]    | Downloading package conll2000 to\n",
            "[nltk_data]    |     C:\\Users\\Houda\\AppData\\Roaming\\nltk_data...\n",
            "[nltk_data]    |   Package conll2000 is already up-to-date!\n",
            "[nltk_data]    | Downloading package conll2002 to\n",
            "[nltk_data]    |     C:\\Users\\Houda\\AppData\\Roaming\\nltk_data...\n",
            "[nltk_data]    |   Package conll2002 is already up-to-date!\n",
            "[nltk_data]    | Downloading package conll2007 to\n",
            "[nltk_data]    |     C:\\Users\\Houda\\AppData\\Roaming\\nltk_data...\n",
            "[nltk_data]    |   Package conll2007 is already up-to-date!\n",
            "[nltk_data]    | Downloading package crubadan to\n",
            "[nltk_data]    |     C:\\Users\\Houda\\AppData\\Roaming\\nltk_data...\n",
            "[nltk_data]    |   Package crubadan is already up-to-date!\n",
            "[nltk_data]    | Downloading package dependency_treebank to\n",
            "[nltk_data]    |     C:\\Users\\Houda\\AppData\\Roaming\\nltk_data...\n",
            "[nltk_data]    |   Package dependency_treebank is already up-to-date!\n",
            "[nltk_data]    | Downloading package dolch to\n",
            "[nltk_data]    |     C:\\Users\\Houda\\AppData\\Roaming\\nltk_data...\n",
            "[nltk_data]    |   Package dolch is already up-to-date!\n",
            "[nltk_data]    | Downloading package europarl_raw to\n",
            "[nltk_data]    |     C:\\Users\\Houda\\AppData\\Roaming\\nltk_data...\n",
            "[nltk_data]    |   Package europarl_raw is already up-to-date!\n",
            "[nltk_data]    | Downloading package extended_omw to\n",
            "[nltk_data]    |     C:\\Users\\Houda\\AppData\\Roaming\\nltk_data...\n",
            "[nltk_data]    |   Package extended_omw is already up-to-date!\n",
            "[nltk_data]    | Downloading package floresta to\n",
            "[nltk_data]    |     C:\\Users\\Houda\\AppData\\Roaming\\nltk_data...\n",
            "[nltk_data]    |   Package floresta is already up-to-date!\n",
            "[nltk_data]    | Downloading package framenet_v15 to\n",
            "[nltk_data]    |     C:\\Users\\Houda\\AppData\\Roaming\\nltk_data...\n",
            "[nltk_data]    |   Package framenet_v15 is already up-to-date!\n",
            "[nltk_data]    | Downloading package framenet_v17 to\n",
            "[nltk_data]    |     C:\\Users\\Houda\\AppData\\Roaming\\nltk_data...\n",
            "[nltk_data]    |   Package framenet_v17 is already up-to-date!\n",
            "[nltk_data]    | Downloading package gazetteers to\n",
            "[nltk_data]    |     C:\\Users\\Houda\\AppData\\Roaming\\nltk_data...\n",
            "[nltk_data]    |   Package gazetteers is already up-to-date!\n",
            "[nltk_data]    | Downloading package genesis to\n",
            "[nltk_data]    |     C:\\Users\\Houda\\AppData\\Roaming\\nltk_data...\n",
            "[nltk_data]    |   Package genesis is already up-to-date!\n",
            "[nltk_data]    | Downloading package gutenberg to\n",
            "[nltk_data]    |     C:\\Users\\Houda\\AppData\\Roaming\\nltk_data...\n",
            "[nltk_data]    |   Package gutenberg is already up-to-date!\n",
            "[nltk_data]    | Downloading package ieer to\n",
            "[nltk_data]    |     C:\\Users\\Houda\\AppData\\Roaming\\nltk_data...\n",
            "[nltk_data]    |   Package ieer is already up-to-date!\n",
            "[nltk_data]    | Downloading package inaugural to\n",
            "[nltk_data]    |     C:\\Users\\Houda\\AppData\\Roaming\\nltk_data...\n",
            "[nltk_data]    |   Package inaugural is already up-to-date!\n",
            "[nltk_data]    | Downloading package indian to\n",
            "[nltk_data]    |     C:\\Users\\Houda\\AppData\\Roaming\\nltk_data...\n",
            "[nltk_data]    |   Package indian is already up-to-date!\n",
            "[nltk_data]    | Downloading package jeita to\n",
            "[nltk_data]    |     C:\\Users\\Houda\\AppData\\Roaming\\nltk_data...\n",
            "[nltk_data]    |   Package jeita is already up-to-date!\n",
            "[nltk_data]    | Downloading package kimmo to\n",
            "[nltk_data]    |     C:\\Users\\Houda\\AppData\\Roaming\\nltk_data...\n",
            "[nltk_data]    |   Package kimmo is already up-to-date!\n",
            "[nltk_data]    | Downloading package knbc to\n",
            "[nltk_data]    |     C:\\Users\\Houda\\AppData\\Roaming\\nltk_data...\n",
            "[nltk_data]    |   Package knbc is already up-to-date!\n",
            "[nltk_data]    | Downloading package large_grammars to\n",
            "[nltk_data]    |     C:\\Users\\Houda\\AppData\\Roaming\\nltk_data...\n",
            "[nltk_data]    |   Package large_grammars is already up-to-date!\n",
            "[nltk_data]    | Downloading package lin_thesaurus to\n",
            "[nltk_data]    |     C:\\Users\\Houda\\AppData\\Roaming\\nltk_data...\n",
            "[nltk_data]    |   Package lin_thesaurus is already up-to-date!\n",
            "[nltk_data]    | Downloading package mac_morpho to\n",
            "[nltk_data]    |     C:\\Users\\Houda\\AppData\\Roaming\\nltk_data...\n",
            "[nltk_data]    |   Package mac_morpho is already up-to-date!\n",
            "[nltk_data]    | Downloading package machado to\n",
            "[nltk_data]    |     C:\\Users\\Houda\\AppData\\Roaming\\nltk_data...\n",
            "[nltk_data]    |   Package machado is already up-to-date!\n",
            "[nltk_data]    | Downloading package masc_tagged to\n",
            "[nltk_data]    |     C:\\Users\\Houda\\AppData\\Roaming\\nltk_data...\n",
            "[nltk_data]    |   Package masc_tagged is already up-to-date!\n",
            "[nltk_data]    | Downloading package maxent_ne_chunker to\n",
            "[nltk_data]    |     C:\\Users\\Houda\\AppData\\Roaming\\nltk_data...\n",
            "[nltk_data]    |   Package maxent_ne_chunker is already up-to-date!\n",
            "[nltk_data]    | Downloading package maxent_treebank_pos_tagger to\n",
            "[nltk_data]    |     C:\\Users\\Houda\\AppData\\Roaming\\nltk_data...\n"
          ]
        },
        {
          "name": "stderr",
          "output_type": "stream",
          "text": [
            "[nltk_data]    |   Package maxent_treebank_pos_tagger is already up-\n",
            "[nltk_data]    |       to-date!\n",
            "[nltk_data]    | Downloading package moses_sample to\n",
            "[nltk_data]    |     C:\\Users\\Houda\\AppData\\Roaming\\nltk_data...\n",
            "[nltk_data]    |   Package moses_sample is already up-to-date!\n",
            "[nltk_data]    | Downloading package movie_reviews to\n",
            "[nltk_data]    |     C:\\Users\\Houda\\AppData\\Roaming\\nltk_data...\n",
            "[nltk_data]    |   Package movie_reviews is already up-to-date!\n",
            "[nltk_data]    | Downloading package mte_teip5 to\n",
            "[nltk_data]    |     C:\\Users\\Houda\\AppData\\Roaming\\nltk_data...\n",
            "[nltk_data]    |   Package mte_teip5 is already up-to-date!\n",
            "[nltk_data]    | Downloading package mwa_ppdb to\n",
            "[nltk_data]    |     C:\\Users\\Houda\\AppData\\Roaming\\nltk_data...\n",
            "[nltk_data]    |   Package mwa_ppdb is already up-to-date!\n",
            "[nltk_data]    | Downloading package names to\n",
            "[nltk_data]    |     C:\\Users\\Houda\\AppData\\Roaming\\nltk_data...\n",
            "[nltk_data]    |   Package names is already up-to-date!\n",
            "[nltk_data]    | Downloading package nombank.1.0 to\n",
            "[nltk_data]    |     C:\\Users\\Houda\\AppData\\Roaming\\nltk_data...\n",
            "[nltk_data]    |   Package nombank.1.0 is already up-to-date!\n",
            "[nltk_data]    | Downloading package nonbreaking_prefixes to\n",
            "[nltk_data]    |     C:\\Users\\Houda\\AppData\\Roaming\\nltk_data...\n",
            "[nltk_data]    |   Package nonbreaking_prefixes is already up-to-date!\n",
            "[nltk_data]    | Downloading package nps_chat to\n",
            "[nltk_data]    |     C:\\Users\\Houda\\AppData\\Roaming\\nltk_data...\n",
            "[nltk_data]    |   Package nps_chat is already up-to-date!\n",
            "[nltk_data]    | Downloading package omw to\n",
            "[nltk_data]    |     C:\\Users\\Houda\\AppData\\Roaming\\nltk_data...\n",
            "[nltk_data]    |   Package omw is already up-to-date!\n",
            "[nltk_data]    | Downloading package omw-1.4 to\n",
            "[nltk_data]    |     C:\\Users\\Houda\\AppData\\Roaming\\nltk_data...\n",
            "[nltk_data]    |   Package omw-1.4 is already up-to-date!\n",
            "[nltk_data]    | Downloading package opinion_lexicon to\n",
            "[nltk_data]    |     C:\\Users\\Houda\\AppData\\Roaming\\nltk_data...\n",
            "[nltk_data]    |   Package opinion_lexicon is already up-to-date!\n",
            "[nltk_data]    | Downloading package panlex_swadesh to\n",
            "[nltk_data]    |     C:\\Users\\Houda\\AppData\\Roaming\\nltk_data...\n",
            "[nltk_data]    |   Package panlex_swadesh is already up-to-date!\n",
            "[nltk_data]    | Downloading package paradigms to\n",
            "[nltk_data]    |     C:\\Users\\Houda\\AppData\\Roaming\\nltk_data...\n",
            "[nltk_data]    |   Package paradigms is already up-to-date!\n",
            "[nltk_data]    | Downloading package pe08 to\n",
            "[nltk_data]    |     C:\\Users\\Houda\\AppData\\Roaming\\nltk_data...\n",
            "[nltk_data]    |   Package pe08 is already up-to-date!\n",
            "[nltk_data]    | Downloading package perluniprops to\n",
            "[nltk_data]    |     C:\\Users\\Houda\\AppData\\Roaming\\nltk_data...\n",
            "[nltk_data]    |   Package perluniprops is already up-to-date!\n",
            "[nltk_data]    | Downloading package pil to\n",
            "[nltk_data]    |     C:\\Users\\Houda\\AppData\\Roaming\\nltk_data...\n",
            "[nltk_data]    |   Package pil is already up-to-date!\n",
            "[nltk_data]    | Downloading package pl196x to\n",
            "[nltk_data]    |     C:\\Users\\Houda\\AppData\\Roaming\\nltk_data...\n",
            "[nltk_data]    |   Package pl196x is already up-to-date!\n",
            "[nltk_data]    | Downloading package porter_test to\n",
            "[nltk_data]    |     C:\\Users\\Houda\\AppData\\Roaming\\nltk_data...\n",
            "[nltk_data]    |   Package porter_test is already up-to-date!\n",
            "[nltk_data]    | Downloading package ppattach to\n",
            "[nltk_data]    |     C:\\Users\\Houda\\AppData\\Roaming\\nltk_data...\n",
            "[nltk_data]    |   Package ppattach is already up-to-date!\n",
            "[nltk_data]    | Downloading package problem_reports to\n",
            "[nltk_data]    |     C:\\Users\\Houda\\AppData\\Roaming\\nltk_data...\n",
            "[nltk_data]    |   Package problem_reports is already up-to-date!\n",
            "[nltk_data]    | Downloading package product_reviews_1 to\n",
            "[nltk_data]    |     C:\\Users\\Houda\\AppData\\Roaming\\nltk_data...\n",
            "[nltk_data]    |   Package product_reviews_1 is already up-to-date!\n",
            "[nltk_data]    | Downloading package product_reviews_2 to\n",
            "[nltk_data]    |     C:\\Users\\Houda\\AppData\\Roaming\\nltk_data...\n",
            "[nltk_data]    |   Package product_reviews_2 is already up-to-date!\n",
            "[nltk_data]    | Downloading package propbank to\n",
            "[nltk_data]    |     C:\\Users\\Houda\\AppData\\Roaming\\nltk_data...\n",
            "[nltk_data]    |   Package propbank is already up-to-date!\n",
            "[nltk_data]    | Downloading package pros_cons to\n",
            "[nltk_data]    |     C:\\Users\\Houda\\AppData\\Roaming\\nltk_data...\n",
            "[nltk_data]    |   Package pros_cons is already up-to-date!\n",
            "[nltk_data]    | Downloading package ptb to\n",
            "[nltk_data]    |     C:\\Users\\Houda\\AppData\\Roaming\\nltk_data...\n",
            "[nltk_data]    |   Package ptb is already up-to-date!\n",
            "[nltk_data]    | Downloading package punkt to\n",
            "[nltk_data]    |     C:\\Users\\Houda\\AppData\\Roaming\\nltk_data...\n",
            "[nltk_data]    |   Package punkt is already up-to-date!\n",
            "[nltk_data]    | Downloading package qc to\n",
            "[nltk_data]    |     C:\\Users\\Houda\\AppData\\Roaming\\nltk_data...\n",
            "[nltk_data]    |   Package qc is already up-to-date!\n",
            "[nltk_data]    | Downloading package reuters to\n",
            "[nltk_data]    |     C:\\Users\\Houda\\AppData\\Roaming\\nltk_data...\n",
            "[nltk_data]    |   Package reuters is already up-to-date!\n",
            "[nltk_data]    | Downloading package rslp to\n",
            "[nltk_data]    |     C:\\Users\\Houda\\AppData\\Roaming\\nltk_data...\n",
            "[nltk_data]    |   Package rslp is already up-to-date!\n",
            "[nltk_data]    | Downloading package rte to\n",
            "[nltk_data]    |     C:\\Users\\Houda\\AppData\\Roaming\\nltk_data...\n",
            "[nltk_data]    |   Package rte is already up-to-date!\n",
            "[nltk_data]    | Downloading package sample_grammars to\n",
            "[nltk_data]    |     C:\\Users\\Houda\\AppData\\Roaming\\nltk_data...\n",
            "[nltk_data]    |   Package sample_grammars is already up-to-date!\n",
            "[nltk_data]    | Downloading package semcor to\n",
            "[nltk_data]    |     C:\\Users\\Houda\\AppData\\Roaming\\nltk_data...\n",
            "[nltk_data]    |   Package semcor is already up-to-date!\n",
            "[nltk_data]    | Downloading package senseval to\n",
            "[nltk_data]    |     C:\\Users\\Houda\\AppData\\Roaming\\nltk_data...\n",
            "[nltk_data]    |   Package senseval is already up-to-date!\n",
            "[nltk_data]    | Downloading package sentence_polarity to\n",
            "[nltk_data]    |     C:\\Users\\Houda\\AppData\\Roaming\\nltk_data...\n",
            "[nltk_data]    |   Package sentence_polarity is already up-to-date!\n",
            "[nltk_data]    | Downloading package sentiwordnet to\n",
            "[nltk_data]    |     C:\\Users\\Houda\\AppData\\Roaming\\nltk_data...\n",
            "[nltk_data]    |   Package sentiwordnet is already up-to-date!\n",
            "[nltk_data]    | Downloading package shakespeare to\n",
            "[nltk_data]    |     C:\\Users\\Houda\\AppData\\Roaming\\nltk_data...\n",
            "[nltk_data]    |   Package shakespeare is already up-to-date!\n",
            "[nltk_data]    | Downloading package sinica_treebank to\n",
            "[nltk_data]    |     C:\\Users\\Houda\\AppData\\Roaming\\nltk_data...\n",
            "[nltk_data]    |   Package sinica_treebank is already up-to-date!\n",
            "[nltk_data]    | Downloading package smultron to\n",
            "[nltk_data]    |     C:\\Users\\Houda\\AppData\\Roaming\\nltk_data...\n",
            "[nltk_data]    |   Package smultron is already up-to-date!\n",
            "[nltk_data]    | Downloading package snowball_data to\n",
            "[nltk_data]    |     C:\\Users\\Houda\\AppData\\Roaming\\nltk_data...\n",
            "[nltk_data]    |   Package snowball_data is already up-to-date!\n",
            "[nltk_data]    | Downloading package spanish_grammars to\n",
            "[nltk_data]    |     C:\\Users\\Houda\\AppData\\Roaming\\nltk_data...\n",
            "[nltk_data]    |   Package spanish_grammars is already up-to-date!\n",
            "[nltk_data]    | Downloading package state_union to\n",
            "[nltk_data]    |     C:\\Users\\Houda\\AppData\\Roaming\\nltk_data...\n",
            "[nltk_data]    |   Package state_union is already up-to-date!\n",
            "[nltk_data]    | Downloading package stopwords to\n",
            "[nltk_data]    |     C:\\Users\\Houda\\AppData\\Roaming\\nltk_data...\n",
            "[nltk_data]    |   Package stopwords is already up-to-date!\n",
            "[nltk_data]    | Downloading package subjectivity to\n",
            "[nltk_data]    |     C:\\Users\\Houda\\AppData\\Roaming\\nltk_data...\n",
            "[nltk_data]    |   Package subjectivity is already up-to-date!\n",
            "[nltk_data]    | Downloading package swadesh to\n",
            "[nltk_data]    |     C:\\Users\\Houda\\AppData\\Roaming\\nltk_data...\n",
            "[nltk_data]    |   Package swadesh is already up-to-date!\n",
            "[nltk_data]    | Downloading package switchboard to\n",
            "[nltk_data]    |     C:\\Users\\Houda\\AppData\\Roaming\\nltk_data...\n",
            "[nltk_data]    |   Package switchboard is already up-to-date!\n",
            "[nltk_data]    | Downloading package tagsets to\n",
            "[nltk_data]    |     C:\\Users\\Houda\\AppData\\Roaming\\nltk_data...\n",
            "[nltk_data]    |   Package tagsets is already up-to-date!\n",
            "[nltk_data]    | Downloading package timit to\n",
            "[nltk_data]    |     C:\\Users\\Houda\\AppData\\Roaming\\nltk_data...\n"
          ]
        },
        {
          "name": "stderr",
          "output_type": "stream",
          "text": [
            "[nltk_data]    |   Package timit is already up-to-date!\n",
            "[nltk_data]    | Downloading package toolbox to\n",
            "[nltk_data]    |     C:\\Users\\Houda\\AppData\\Roaming\\nltk_data...\n",
            "[nltk_data]    |   Package toolbox is already up-to-date!\n",
            "[nltk_data]    | Downloading package treebank to\n",
            "[nltk_data]    |     C:\\Users\\Houda\\AppData\\Roaming\\nltk_data...\n",
            "[nltk_data]    |   Package treebank is already up-to-date!\n",
            "[nltk_data]    | Downloading package twitter_samples to\n",
            "[nltk_data]    |     C:\\Users\\Houda\\AppData\\Roaming\\nltk_data...\n",
            "[nltk_data]    |   Package twitter_samples is already up-to-date!\n",
            "[nltk_data]    | Downloading package udhr to\n",
            "[nltk_data]    |     C:\\Users\\Houda\\AppData\\Roaming\\nltk_data...\n",
            "[nltk_data]    |   Package udhr is already up-to-date!\n",
            "[nltk_data]    | Downloading package udhr2 to\n",
            "[nltk_data]    |     C:\\Users\\Houda\\AppData\\Roaming\\nltk_data...\n",
            "[nltk_data]    |   Package udhr2 is already up-to-date!\n",
            "[nltk_data]    | Downloading package unicode_samples to\n",
            "[nltk_data]    |     C:\\Users\\Houda\\AppData\\Roaming\\nltk_data...\n",
            "[nltk_data]    |   Package unicode_samples is already up-to-date!\n",
            "[nltk_data]    | Downloading package universal_tagset to\n",
            "[nltk_data]    |     C:\\Users\\Houda\\AppData\\Roaming\\nltk_data...\n",
            "[nltk_data]    |   Package universal_tagset is already up-to-date!\n",
            "[nltk_data]    | Downloading package universal_treebanks_v20 to\n",
            "[nltk_data]    |     C:\\Users\\Houda\\AppData\\Roaming\\nltk_data...\n",
            "[nltk_data]    |   Package universal_treebanks_v20 is already up-to-\n",
            "[nltk_data]    |       date!\n",
            "[nltk_data]    | Downloading package vader_lexicon to\n",
            "[nltk_data]    |     C:\\Users\\Houda\\AppData\\Roaming\\nltk_data...\n",
            "[nltk_data]    |   Package vader_lexicon is already up-to-date!\n",
            "[nltk_data]    | Downloading package verbnet to\n",
            "[nltk_data]    |     C:\\Users\\Houda\\AppData\\Roaming\\nltk_data...\n",
            "[nltk_data]    |   Package verbnet is already up-to-date!\n",
            "[nltk_data]    | Downloading package verbnet3 to\n",
            "[nltk_data]    |     C:\\Users\\Houda\\AppData\\Roaming\\nltk_data...\n",
            "[nltk_data]    |   Package verbnet3 is already up-to-date!\n",
            "[nltk_data]    | Downloading package webtext to\n",
            "[nltk_data]    |     C:\\Users\\Houda\\AppData\\Roaming\\nltk_data...\n",
            "[nltk_data]    |   Package webtext is already up-to-date!\n",
            "[nltk_data]    | Downloading package wmt15_eval to\n",
            "[nltk_data]    |     C:\\Users\\Houda\\AppData\\Roaming\\nltk_data...\n",
            "[nltk_data]    |   Package wmt15_eval is already up-to-date!\n",
            "[nltk_data]    | Downloading package word2vec_sample to\n",
            "[nltk_data]    |     C:\\Users\\Houda\\AppData\\Roaming\\nltk_data...\n",
            "[nltk_data]    |   Package word2vec_sample is already up-to-date!\n",
            "[nltk_data]    | Downloading package wordnet to\n",
            "[nltk_data]    |     C:\\Users\\Houda\\AppData\\Roaming\\nltk_data...\n",
            "[nltk_data]    |   Package wordnet is already up-to-date!\n",
            "[nltk_data]    | Downloading package wordnet2021 to\n",
            "[nltk_data]    |     C:\\Users\\Houda\\AppData\\Roaming\\nltk_data...\n",
            "[nltk_data]    |   Package wordnet2021 is already up-to-date!\n",
            "[nltk_data]    | Downloading package wordnet31 to\n",
            "[nltk_data]    |     C:\\Users\\Houda\\AppData\\Roaming\\nltk_data...\n",
            "[nltk_data]    |   Package wordnet31 is already up-to-date!\n",
            "[nltk_data]    | Downloading package wordnet_ic to\n",
            "[nltk_data]    |     C:\\Users\\Houda\\AppData\\Roaming\\nltk_data...\n",
            "[nltk_data]    |   Package wordnet_ic is already up-to-date!\n",
            "[nltk_data]    | Downloading package words to\n",
            "[nltk_data]    |     C:\\Users\\Houda\\AppData\\Roaming\\nltk_data...\n",
            "[nltk_data]    |   Package words is already up-to-date!\n",
            "[nltk_data]    | Downloading package ycoe to\n",
            "[nltk_data]    |     C:\\Users\\Houda\\AppData\\Roaming\\nltk_data...\n",
            "[nltk_data]    |   Package ycoe is already up-to-date!\n",
            "[nltk_data]    | \n",
            "[nltk_data]  Done downloading collection all\n"
          ]
        }
      ],
      "source": [
        "import matplotlib.pyplot as plt\n",
        "import seaborn as sns\n",
        "import numpy as np\n",
        "import pandas as pd\n",
        "import requests\n",
        "import tensorflow\n",
        "from bs4 import BeautifulSoup\n",
        "import en_core_web_sm\n",
        "import gensim\n",
        "from gensim.utils import simple_preprocess\n",
        "from gensim.parsing.preprocessing import STOPWORDS\n",
        "import gensim.corpora as corpora\n",
        "from nltk.stem import WordNetLemmatizer, SnowballStemmer\n",
        "from nltk.stem.porter import *\n",
        "import spacy\n",
        "import nltk\n",
        "import re\n",
        "from string import punctuation\n",
        "#import nltk\n",
        "nltk.download('punkt')\n",
        "nltk.download('all') \n",
        "from nltk.corpus import stopwords\n",
        "from nltk.stem import wordnet\n",
        "from nltk.stem import WordNetLemmatizer\n",
        "from nltk.tokenize import ToktokTokenizer\n",
        "from sklearn.feature_extraction.text import CountVectorizer\n",
        "from sklearn.feature_extraction.text import TfidfVectorizer\n",
        "from sklearn.preprocessing import KBinsDiscretizer\n",
        "from sklearn.preprocessing import MultiLabelBinarizer\n",
        "from sklearn.model_selection import train_test_split"
      ]
    },
    {
      "cell_type": "code",
      "execution_count": null,
      "metadata": {
        "id": "5657b35c",
        "outputId": "fefaeba0-f059-4ca6-cb88-a34dbb1d977d"
      },
      "outputs": [
        {
          "name": "stdout",
          "output_type": "stream",
          "text": [
            "Collecting bs4\n",
            "  Downloading bs4-0.0.1.tar.gz (1.1 kB)\n",
            "  Preparing metadata (setup.py): started\n",
            "  Preparing metadata (setup.py): finished with status 'done'\n",
            "Collecting beautifulsoup4\n",
            "  Downloading beautifulsoup4-4.11.1-py3-none-any.whl (128 kB)\n",
            "     -------------------------------------- 128.2/128.2 KB 1.9 MB/s eta 0:00:00\n",
            "Collecting soupsieve>1.2\n",
            "  Downloading soupsieve-2.3.2-py3-none-any.whl (37 kB)\n",
            "Building wheels for collected packages: bs4\n",
            "  Building wheel for bs4 (setup.py): started\n",
            "  Building wheel for bs4 (setup.py): finished with status 'done'\n",
            "  Created wheel for bs4: filename=bs4-0.0.1-py3-none-any.whl size=1277 sha256=541562bf0aa6a0d173f791cf9aaaa77cb9415d2c049fe1b0cb1e69d6fb2160ee\n",
            "  Stored in directory: c:\\users\\houda\\appdata\\local\\pip\\cache\\wheels\\73\\2b\\cb\\099980278a0c9a3e57ff1a89875ec07bfa0b6fcbebb9a8cad3\n",
            "Successfully built bs4\n",
            "Installing collected packages: soupsieve, beautifulsoup4, bs4\n",
            "Successfully installed beautifulsoup4-4.11.1 bs4-0.0.1 soupsieve-2.3.2\n"
          ]
        }
      ],
      "source": [
        "!pip install bs4"
      ]
    },
    {
      "cell_type": "code",
      "execution_count": null,
      "metadata": {
        "id": "627d52fa",
        "outputId": "86bf33b4-a078-4cdc-efb1-b97c3a1576d0"
      },
      "outputs": [
        {
          "name": "stdout",
          "output_type": "stream",
          "text": [
            "Collecting gensim\n",
            "  Downloading gensim-4.1.2-cp39-cp39-win_amd64.whl (24.0 MB)\n",
            "     --------------------------------------- 24.0/24.0 MB 14.3 MB/s eta 0:00:00\n",
            "Requirement already satisfied: scipy>=0.18.1 in c:\\users\\houda\\anaconda3\\envs\\myenvironmentname\\lib\\site-packages (from gensim) (1.7.1)\n",
            "Requirement already satisfied: numpy>=1.17.0 in c:\\users\\houda\\anaconda3\\envs\\myenvironmentname\\lib\\site-packages (from gensim) (1.20.3)\n",
            "Requirement already satisfied: smart-open>=1.8.1 in c:\\users\\houda\\anaconda3\\envs\\myenvironmentname\\lib\\site-packages (from gensim) (5.2.1)\n",
            "Collecting Cython==0.29.23\n",
            "  Downloading Cython-0.29.23-cp39-cp39-win_amd64.whl (1.7 MB)\n",
            "     ---------------------------------------- 1.7/1.7 MB 13.1 MB/s eta 0:00:00\n",
            "Installing collected packages: Cython, gensim\n",
            "Successfully installed Cython-0.29.23 gensim-4.1.2\n"
          ]
        }
      ],
      "source": [
        "!pip install gensim"
      ]
    },
    {
      "cell_type": "code",
      "execution_count": null,
      "metadata": {
        "id": "9bd37ba9",
        "outputId": "0e00f7ca-c3ac-4da0-c20e-1a22124fbd33"
      },
      "outputs": [
        {
          "name": "stdout",
          "output_type": "stream",
          "text": [
            "Collecting nltk\n",
            "  Using cached nltk-3.7-py3-none-any.whl (1.5 MB)\n",
            "Requirement already satisfied: regex>=2021.8.3 in c:\\users\\houda\\anaconda3\\envs\\myenvironmentname\\lib\\site-packages (from nltk) (2022.3.15)\n",
            "Requirement already satisfied: tqdm in c:\\users\\houda\\anaconda3\\envs\\myenvironmentname\\lib\\site-packages (from nltk) (4.62.3)\n",
            "Requirement already satisfied: click in c:\\users\\houda\\anaconda3\\envs\\myenvironmentname\\lib\\site-packages (from nltk) (8.0.0)\n",
            "Requirement already satisfied: joblib in c:\\users\\houda\\anaconda3\\envs\\myenvironmentname\\lib\\site-packages (from nltk) (1.1.0)\n",
            "Requirement already satisfied: colorama in c:\\users\\houda\\anaconda3\\envs\\myenvironmentname\\lib\\site-packages (from click->nltk) (0.4.4)\n",
            "Installing collected packages: nltk\n",
            "Successfully installed nltk-3.7\n"
          ]
        }
      ],
      "source": [
        "!pip install nltk"
      ]
    },
    {
      "cell_type": "code",
      "execution_count": null,
      "metadata": {
        "id": "3c597069"
      },
      "outputs": [],
      "source": [
        "import tensorflow_core"
      ]
    },
    {
      "cell_type": "markdown",
      "metadata": {
        "id": "0d8ebdd8"
      },
      "source": [
        "# Contexte"
      ]
    },
    {
      "cell_type": "raw",
      "metadata": {
        "id": "8fedd87d"
      },
      "source": [
        "Le but est de développer un algorithme de Machine Learning avec des modèles supervisés et non supervisés, destiné à assigner automatiquement plusieurs tags pertinents à une question posée sur le site Stack overflow.\n",
        "\n",
        "Les données ont été téléchargées via l'outil d’export de données stackexchange explorer.\n",
        "Elles portent sur la période 2009 / 2022 et uniquement sur les posts \"de qualité\" ayant plus de 100 vues,\n",
        "au minimum 1 réponse, et un score supérieur à 5."
      ]
    },
    {
      "cell_type": "raw",
      "metadata": {
        "id": "6246e898"
      },
      "source": [
        "SELECT TOP 500000 REPLACE(Title, ',', ' ') AS Title, Body, Tags, Id, Score,\n",
        "\n",
        "ViewCount, FavoriteCount, CreationDate, AnswerCount\n",
        "\n",
        "FROM Posts\n",
        "\n",
        "WHERE PostTypeId = 1 AND ViewCount > 100 AND FavoriteCount > 0\n",
        "\n",
        "AND Score > 5 AND AnswerCount > 0 AND LEN(Tags) - LEN(REPLACE(Tags, '<','')) >= 5"
      ]
    },
    {
      "cell_type": "markdown",
      "metadata": {
        "id": "77bf5d3d"
      },
      "source": [
        "# Importation et nettoyage des données"
      ]
    },
    {
      "cell_type": "code",
      "execution_count": null,
      "metadata": {
        "id": "96dcab39"
      },
      "outputs": [],
      "source": [
        "data = pd.read_csv('C:/Users/Houda/Documents/OpenClassrooms/P5/QueryResults.csv', sep=',')"
      ]
    },
    {
      "cell_type": "code",
      "execution_count": null,
      "metadata": {
        "outputId": "93360a3b-20d5-44bc-e038-8306eae62cbf",
        "id": "KWaAuxeCaLU3"
      },
      "outputs": [
        {
          "data": {
            "text/html": [
              "<div>\n",
              "<style scoped>\n",
              "    .dataframe tbody tr th:only-of-type {\n",
              "        vertical-align: middle;\n",
              "    }\n",
              "\n",
              "    .dataframe tbody tr th {\n",
              "        vertical-align: top;\n",
              "    }\n",
              "\n",
              "    .dataframe thead th {\n",
              "        text-align: right;\n",
              "    }\n",
              "</style>\n",
              "<table border=\"1\" class=\"dataframe\">\n",
              "  <thead>\n",
              "    <tr style=\"text-align: right;\">\n",
              "      <th></th>\n",
              "      <th>Title</th>\n",
              "      <th>Body</th>\n",
              "      <th>Unnamed: 2</th>\n",
              "      <th>Id</th>\n",
              "      <th>Score</th>\n",
              "      <th>ViewCount</th>\n",
              "      <th>FavoriteCount</th>\n",
              "      <th>CreationDate</th>\n",
              "      <th>AnswerCount</th>\n",
              "    </tr>\n",
              "  </thead>\n",
              "  <tbody>\n",
              "    <tr>\n",
              "      <th>0</th>\n",
              "      <td>Proper way to use CollectionViewSource in View...</td>\n",
              "      <td>&lt;p&gt;I used Drag and Drop to bind Data Source ob...</td>\n",
              "      <td>c# wpf mvvm datagrid collectionviewsource</td>\n",
              "      <td>20888619</td>\n",
              "      <td>59</td>\n",
              "      <td>92137</td>\n",
              "      <td>25</td>\n",
              "      <td>2014-01-02 17:45:21</td>\n",
              "      <td>3</td>\n",
              "    </tr>\n",
              "    <tr>\n",
              "      <th>1</th>\n",
              "      <td>spring boot rest and angular2 with websocket (...</td>\n",
              "      <td>&lt;p&gt;Is it possible to use stomp over sockjs wit...</td>\n",
              "      <td>spring tomcat angular stomp sockjs</td>\n",
              "      <td>36238816</td>\n",
              "      <td>6</td>\n",
              "      <td>7343</td>\n",
              "      <td>1</td>\n",
              "      <td>2016-03-26 17:59:58</td>\n",
              "      <td>3</td>\n",
              "    </tr>\n",
              "    <tr>\n",
              "      <th>2</th>\n",
              "      <td>knex.js + pg specify varchar to be &gt; 255</td>\n",
              "      <td>&lt;p&gt;When creating a table in knex migrations, I...</td>\n",
              "      <td>string postgresql knex.js varchar postgresql-9.4</td>\n",
              "      <td>35817959</td>\n",
              "      <td>14</td>\n",
              "      <td>12871</td>\n",
              "      <td>1</td>\n",
              "      <td>2016-03-05 18:23:19</td>\n",
              "      <td>2</td>\n",
              "    </tr>\n",
              "    <tr>\n",
              "      <th>3</th>\n",
              "      <td>An amnesia patient's \"first\" functional langua...</td>\n",
              "      <td>&lt;p&gt;I was recently diagnosed with a cascading d...</td>\n",
              "      <td>database functional-programming clojure webser...</td>\n",
              "      <td>284518</td>\n",
              "      <td>20</td>\n",
              "      <td>1573</td>\n",
              "      <td>5</td>\n",
              "      <td>2008-11-12 16:33:17</td>\n",
              "      <td>5</td>\n",
              "    </tr>\n",
              "    <tr>\n",
              "      <th>4</th>\n",
              "      <td>How to check pom.xml for updated dependencies</td>\n",
              "      <td>&lt;p&gt;I am fairly new to Maven and pom.xml. Is th...</td>\n",
              "      <td>maven maven-2 maven-3 maven-plugin dependency-...</td>\n",
              "      <td>3516538</td>\n",
              "      <td>58</td>\n",
              "      <td>25702</td>\n",
              "      <td>16</td>\n",
              "      <td>2010-08-18 20:46:15</td>\n",
              "      <td>3</td>\n",
              "    </tr>\n",
              "  </tbody>\n",
              "</table>\n",
              "</div>"
            ],
            "text/plain": [
              "                                               Title  \\\n",
              "0  Proper way to use CollectionViewSource in View...   \n",
              "1  spring boot rest and angular2 with websocket (...   \n",
              "2           knex.js + pg specify varchar to be > 255   \n",
              "3  An amnesia patient's \"first\" functional langua...   \n",
              "4      How to check pom.xml for updated dependencies   \n",
              "\n",
              "                                                Body  \\\n",
              "0  <p>I used Drag and Drop to bind Data Source ob...   \n",
              "1  <p>Is it possible to use stomp over sockjs wit...   \n",
              "2  <p>When creating a table in knex migrations, I...   \n",
              "3  <p>I was recently diagnosed with a cascading d...   \n",
              "4  <p>I am fairly new to Maven and pom.xml. Is th...   \n",
              "\n",
              "                                          Unnamed: 2        Id  Score  \\\n",
              "0         c# wpf mvvm datagrid collectionviewsource   20888619     59   \n",
              "1                spring tomcat angular stomp sockjs   36238816      6   \n",
              "2  string postgresql knex.js varchar postgresql-9.4   35817959     14   \n",
              "3  database functional-programming clojure webser...    284518     20   \n",
              "4  maven maven-2 maven-3 maven-plugin dependency-...   3516538     58   \n",
              "\n",
              "   ViewCount  FavoriteCount         CreationDate  AnswerCount  \n",
              "0      92137             25  2014-01-02 17:45:21            3  \n",
              "1       7343              1  2016-03-26 17:59:58            3  \n",
              "2      12871              1  2016-03-05 18:23:19            2  \n",
              "3       1573              5  2008-11-12 16:33:17            5  \n",
              "4      25702             16  2010-08-18 20:46:15            3  "
            ]
          },
          "execution_count": 14,
          "metadata": {},
          "output_type": "execute_result"
        }
      ],
      "source": [
        "data.head()"
      ]
    },
    {
      "cell_type": "code",
      "execution_count": null,
      "metadata": {
        "id": "6971073c"
      },
      "outputs": [],
      "source": [
        "data.rename(columns={data.columns[2]: 'Tags'}, inplace = True)"
      ]
    },
    {
      "cell_type": "code",
      "execution_count": null,
      "metadata": {
        "id": "4177db39",
        "outputId": "c324d94a-d47c-4f1d-aabd-78ac3e01c4c5"
      },
      "outputs": [
        {
          "data": {
            "text/plain": [
              "(50000, 9)"
            ]
          },
          "execution_count": 5,
          "metadata": {},
          "output_type": "execute_result"
        }
      ],
      "source": [
        "data.shape"
      ]
    },
    {
      "cell_type": "code",
      "execution_count": null,
      "metadata": {
        "id": "75055d74",
        "outputId": "149db215-69c3-4932-abcc-1de64d17b069"
      },
      "outputs": [
        {
          "name": "stdout",
          "output_type": "stream",
          "text": [
            "<class 'pandas.core.frame.DataFrame'>\n",
            "RangeIndex: 50000 entries, 0 to 49999\n",
            "Data columns (total 9 columns):\n",
            " #   Column         Non-Null Count  Dtype \n",
            "---  ------         --------------  ----- \n",
            " 0   Title          50000 non-null  object\n",
            " 1   Body           50000 non-null  object\n",
            " 2   Tags           50000 non-null  object\n",
            " 3   Id             50000 non-null  int64 \n",
            " 4   Score          50000 non-null  int64 \n",
            " 5   ViewCount      50000 non-null  int64 \n",
            " 6   FavoriteCount  50000 non-null  int64 \n",
            " 7   CreationDate   50000 non-null  object\n",
            " 8   AnswerCount    50000 non-null  int64 \n",
            "dtypes: int64(5), object(4)\n",
            "memory usage: 3.4+ MB\n"
          ]
        }
      ],
      "source": [
        "data.info()"
      ]
    },
    {
      "cell_type": "code",
      "execution_count": null,
      "metadata": {
        "id": "f68fb3b1",
        "outputId": "bb2289da-94df-4f40-bd5b-079161f56e52"
      },
      "outputs": [
        {
          "data": {
            "text/html": [
              "<div>\n",
              "<style scoped>\n",
              "    .dataframe tbody tr th:only-of-type {\n",
              "        vertical-align: middle;\n",
              "    }\n",
              "\n",
              "    .dataframe tbody tr th {\n",
              "        vertical-align: top;\n",
              "    }\n",
              "\n",
              "    .dataframe thead th {\n",
              "        text-align: right;\n",
              "    }\n",
              "</style>\n",
              "<table border=\"1\" class=\"dataframe\">\n",
              "  <thead>\n",
              "    <tr style=\"text-align: right;\">\n",
              "      <th></th>\n",
              "      <th>Id</th>\n",
              "      <th>Score</th>\n",
              "      <th>ViewCount</th>\n",
              "      <th>FavoriteCount</th>\n",
              "      <th>AnswerCount</th>\n",
              "    </tr>\n",
              "  </thead>\n",
              "  <tbody>\n",
              "    <tr>\n",
              "      <th>count</th>\n",
              "      <td>5.000000e+04</td>\n",
              "      <td>50000.000000</td>\n",
              "      <td>5.000000e+04</td>\n",
              "      <td>50000.000000</td>\n",
              "      <td>50000.000000</td>\n",
              "    </tr>\n",
              "    <tr>\n",
              "      <th>mean</th>\n",
              "      <td>1.661853e+07</td>\n",
              "      <td>39.634560</td>\n",
              "      <td>3.709158e+04</td>\n",
              "      <td>13.977400</td>\n",
              "      <td>4.242060</td>\n",
              "    </tr>\n",
              "    <tr>\n",
              "      <th>std</th>\n",
              "      <td>1.760694e+07</td>\n",
              "      <td>214.140929</td>\n",
              "      <td>1.423853e+05</td>\n",
              "      <td>90.963668</td>\n",
              "      <td>4.378608</td>\n",
              "    </tr>\n",
              "    <tr>\n",
              "      <th>min</th>\n",
              "      <td>4.000000e+00</td>\n",
              "      <td>6.000000</td>\n",
              "      <td>1.010000e+02</td>\n",
              "      <td>1.000000</td>\n",
              "      <td>1.000000</td>\n",
              "    </tr>\n",
              "    <tr>\n",
              "      <th>25%</th>\n",
              "      <td>2.706029e+06</td>\n",
              "      <td>8.000000</td>\n",
              "      <td>3.958750e+03</td>\n",
              "      <td>2.000000</td>\n",
              "      <td>2.000000</td>\n",
              "    </tr>\n",
              "    <tr>\n",
              "      <th>50%</th>\n",
              "      <td>8.389330e+06</td>\n",
              "      <td>12.000000</td>\n",
              "      <td>1.022600e+04</td>\n",
              "      <td>4.000000</td>\n",
              "      <td>3.000000</td>\n",
              "    </tr>\n",
              "    <tr>\n",
              "      <th>75%</th>\n",
              "      <td>2.429261e+07</td>\n",
              "      <td>24.000000</td>\n",
              "      <td>2.714900e+04</td>\n",
              "      <td>8.000000</td>\n",
              "      <td>5.000000</td>\n",
              "    </tr>\n",
              "    <tr>\n",
              "      <th>max</th>\n",
              "      <td>7.141803e+07</td>\n",
              "      <td>18993.000000</td>\n",
              "      <td>9.735081e+06</td>\n",
              "      <td>6726.000000</td>\n",
              "      <td>123.000000</td>\n",
              "    </tr>\n",
              "  </tbody>\n",
              "</table>\n",
              "</div>"
            ],
            "text/plain": [
              "                 Id         Score     ViewCount  FavoriteCount   AnswerCount\n",
              "count  5.000000e+04  50000.000000  5.000000e+04   50000.000000  50000.000000\n",
              "mean   1.661853e+07     39.634560  3.709158e+04      13.977400      4.242060\n",
              "std    1.760694e+07    214.140929  1.423853e+05      90.963668      4.378608\n",
              "min    4.000000e+00      6.000000  1.010000e+02       1.000000      1.000000\n",
              "25%    2.706029e+06      8.000000  3.958750e+03       2.000000      2.000000\n",
              "50%    8.389330e+06     12.000000  1.022600e+04       4.000000      3.000000\n",
              "75%    2.429261e+07     24.000000  2.714900e+04       8.000000      5.000000\n",
              "max    7.141803e+07  18993.000000  9.735081e+06    6726.000000    123.000000"
            ]
          },
          "execution_count": 7,
          "metadata": {},
          "output_type": "execute_result"
        }
      ],
      "source": [
        "data.describe()"
      ]
    },
    {
      "cell_type": "code",
      "execution_count": null,
      "metadata": {
        "id": "a96d64dd"
      },
      "outputs": [],
      "source": [
        "data.set_index('Id', inplace=True)"
      ]
    },
    {
      "cell_type": "code",
      "execution_count": null,
      "metadata": {
        "outputId": "a2fa83b1-9540-49c2-c13b-c83408ea07e8",
        "id": "GUskPBdIbygw"
      },
      "outputs": [
        {
          "data": {
            "text/html": [
              "<div>\n",
              "<style scoped>\n",
              "    .dataframe tbody tr th:only-of-type {\n",
              "        vertical-align: middle;\n",
              "    }\n",
              "\n",
              "    .dataframe tbody tr th {\n",
              "        vertical-align: top;\n",
              "    }\n",
              "\n",
              "    .dataframe thead th {\n",
              "        text-align: right;\n",
              "    }\n",
              "</style>\n",
              "<table border=\"1\" class=\"dataframe\">\n",
              "  <thead>\n",
              "    <tr style=\"text-align: right;\">\n",
              "      <th></th>\n",
              "      <th>Title</th>\n",
              "      <th>Body</th>\n",
              "      <th>Tags</th>\n",
              "      <th>Score</th>\n",
              "      <th>ViewCount</th>\n",
              "      <th>FavoriteCount</th>\n",
              "      <th>CreationDate</th>\n",
              "      <th>AnswerCount</th>\n",
              "    </tr>\n",
              "    <tr>\n",
              "      <th>Id</th>\n",
              "      <th></th>\n",
              "      <th></th>\n",
              "      <th></th>\n",
              "      <th></th>\n",
              "      <th></th>\n",
              "      <th></th>\n",
              "      <th></th>\n",
              "      <th></th>\n",
              "    </tr>\n",
              "  </thead>\n",
              "  <tbody>\n",
              "  </tbody>\n",
              "</table>\n",
              "</div>"
            ],
            "text/plain": [
              "Empty DataFrame\n",
              "Columns: [Title, Body, Tags, Score, ViewCount, FavoriteCount, CreationDate, AnswerCount]\n",
              "Index: []"
            ]
          },
          "execution_count": 7,
          "metadata": {},
          "output_type": "execute_result"
        }
      ],
      "source": [
        "data[data.duplicated(['Title', 'Body', 'Tags'])]"
      ]
    },
    {
      "cell_type": "markdown",
      "metadata": {
        "id": "d566d93c"
      },
      "source": [
        "##  Analyse des Tags"
      ]
    },
    {
      "cell_type": "code",
      "execution_count": null,
      "metadata": {
        "id": "b2bc99eb"
      },
      "outputs": [],
      "source": [
        "vectorizer = CountVectorizer(tokenizer = lambda x: x.split())\n",
        "tag_vec = vectorizer.fit_transform(data['Tags'])"
      ]
    },
    {
      "cell_type": "code",
      "execution_count": null,
      "metadata": {
        "id": "7c06b92b",
        "outputId": "ea849828-6061-420e-94bf-86ca9c628289"
      },
      "outputs": [
        {
          "name": "stderr",
          "output_type": "stream",
          "text": [
            "C:\\Users\\Houda\\Anaconda3\\envs\\MyEnvironmentName\\lib\\site-packages\\sklearn\\utils\\deprecation.py:87: FutureWarning: Function get_feature_names is deprecated; get_feature_names is deprecated in 1.0 and will be removed in 1.2. Please use get_feature_names_out instead.\n",
            "  warnings.warn(msg, category=FutureWarning)\n"
          ]
        },
        {
          "data": {
            "text/html": [
              "<div>\n",
              "<style scoped>\n",
              "    .dataframe tbody tr th:only-of-type {\n",
              "        vertical-align: middle;\n",
              "    }\n",
              "\n",
              "    .dataframe tbody tr th {\n",
              "        vertical-align: top;\n",
              "    }\n",
              "\n",
              "    .dataframe thead th {\n",
              "        text-align: right;\n",
              "    }\n",
              "</style>\n",
              "<table border=\"1\" class=\"dataframe\">\n",
              "  <thead>\n",
              "    <tr style=\"text-align: right;\">\n",
              "      <th></th>\n",
              "      <th>Tags</th>\n",
              "      <th>Counts</th>\n",
              "    </tr>\n",
              "  </thead>\n",
              "  <tbody>\n",
              "    <tr>\n",
              "      <th>0</th>\n",
              "      <td>.a</td>\n",
              "      <td>1</td>\n",
              "    </tr>\n",
              "    <tr>\n",
              "      <th>1</th>\n",
              "      <td>.app</td>\n",
              "      <td>1</td>\n",
              "    </tr>\n",
              "    <tr>\n",
              "      <th>2</th>\n",
              "      <td>.bash-profile</td>\n",
              "      <td>2</td>\n",
              "    </tr>\n",
              "    <tr>\n",
              "      <th>3</th>\n",
              "      <td>.class-file</td>\n",
              "      <td>1</td>\n",
              "    </tr>\n",
              "    <tr>\n",
              "      <th>4</th>\n",
              "      <td>.doc</td>\n",
              "      <td>2</td>\n",
              "    </tr>\n",
              "    <tr>\n",
              "      <th>...</th>\n",
              "      <td>...</td>\n",
              "      <td>...</td>\n",
              "    </tr>\n",
              "    <tr>\n",
              "      <th>17734</th>\n",
              "      <td>zstandard</td>\n",
              "      <td>2</td>\n",
              "    </tr>\n",
              "    <tr>\n",
              "      <th>17735</th>\n",
              "      <td>zstd</td>\n",
              "      <td>1</td>\n",
              "    </tr>\n",
              "    <tr>\n",
              "      <th>17736</th>\n",
              "      <td>zune</td>\n",
              "      <td>1</td>\n",
              "    </tr>\n",
              "    <tr>\n",
              "      <th>17737</th>\n",
              "      <td>zurb-foundation</td>\n",
              "      <td>7</td>\n",
              "    </tr>\n",
              "    <tr>\n",
              "      <th>17738</th>\n",
              "      <td>zxing</td>\n",
              "      <td>3</td>\n",
              "    </tr>\n",
              "  </tbody>\n",
              "</table>\n",
              "<p>17739 rows × 2 columns</p>\n",
              "</div>"
            ],
            "text/plain": [
              "                  Tags  Counts\n",
              "0                   .a       1\n",
              "1                 .app       1\n",
              "2        .bash-profile       2\n",
              "3          .class-file       1\n",
              "4                 .doc       2\n",
              "...                ...     ...\n",
              "17734        zstandard       2\n",
              "17735             zstd       1\n",
              "17736             zune       1\n",
              "17737  zurb-foundation       7\n",
              "17738            zxing       3\n",
              "\n",
              "[17739 rows x 2 columns]"
            ]
          },
          "execution_count": 17,
          "metadata": {},
          "output_type": "execute_result"
        }
      ],
      "source": [
        "tags = vectorizer.get_feature_names()\n",
        "freqs = tag_vec.sum(axis=0).A1\n",
        "result = dict(zip(tags, freqs))\n",
        "tag_data = pd.DataFrame(list(result.items()), columns =['Tags', 'Counts'])\n",
        "tag_data"
      ]
    },
    {
      "cell_type": "code",
      "execution_count": null,
      "metadata": {
        "id": "f8d10997",
        "outputId": "0371a1a3-fb9a-491d-b846-5bd3271c61d2"
      },
      "outputs": [
        {
          "data": {
            "image/png": "[encoded data removed]",
            "text/plain": [
              "<Figure size 1152x576 with 1 Axes>"
            ]
          },
          "metadata": {
            "needs_background": "light"
          },
          "output_type": "display_data"
        }
      ],
      "source": [
        "tag_data_sorted = tag_data.sort_values(['Counts'], ascending=False)\n",
        "tag_data_sorted.head(20)\n",
        "plt.figure(figsize=(16,8)) \n",
        "sns.barplot(x=\"Tags\", y=\"Counts\", data=tag_data_sorted.head(20))\n",
        "plt.title('Frequency of top 20 tags')\n",
        "plt.xlabel('Tags')\n",
        "plt.ylabel('Counts')\n",
        "plt.show()"
      ]
    },
    {
      "cell_type": "markdown",
      "metadata": {
        "id": "d1c5060d"
      },
      "source": [
        "## Nettoyage des questions"
      ]
    },
    {
      "cell_type": "raw",
      "metadata": {
        "id": "33b3dde4"
      },
      "source": [
        "Suppression des balises HTML avec la librairie BeautifulSoup pour ne conserver que le texte brut."
      ]
    },
    {
      "cell_type": "code",
      "execution_count": null,
      "metadata": {
        "id": "ad08e7e9"
      },
      "outputs": [],
      "source": [
        "def remove_code(x):\n",
        "    #soup = BeautifulSoup(x,\"lxml\")\n",
        "    soup = BeautifulSoup(x,\"html.parser\")\n",
        "    code_to_remove = soup.findAll(\"code\")\n",
        "    for code in code_to_remove:\n",
        "        code.replace_with(\" \")\n",
        "    return str(soup)"
      ]
    },
    {
      "cell_type": "code",
      "execution_count": null,
      "metadata": {
        "id": "3f623e2e",
        "outputId": "3247cc82-2b06-48b7-8fc8-e65685419580"
      },
      "outputs": [
        {
          "data": {
            "text/html": [
              "<div>\n",
              "<style scoped>\n",
              "    .dataframe tbody tr th:only-of-type {\n",
              "        vertical-align: middle;\n",
              "    }\n",
              "\n",
              "    .dataframe tbody tr th {\n",
              "        vertical-align: top;\n",
              "    }\n",
              "\n",
              "    .dataframe thead th {\n",
              "        text-align: right;\n",
              "    }\n",
              "</style>\n",
              "<table border=\"1\" class=\"dataframe\">\n",
              "  <thead>\n",
              "    <tr style=\"text-align: right;\">\n",
              "      <th></th>\n",
              "      <th>Body</th>\n",
              "      <th>Body_1</th>\n",
              "    </tr>\n",
              "    <tr>\n",
              "      <th>Id</th>\n",
              "      <th></th>\n",
              "      <th></th>\n",
              "    </tr>\n",
              "  </thead>\n",
              "  <tbody>\n",
              "    <tr>\n",
              "      <th>20888619</th>\n",
              "      <td>&lt;p&gt;I used Drag and Drop to bind Data Source ob...</td>\n",
              "      <td>I used Drag and Drop to bind Data Source objec...</td>\n",
              "    </tr>\n",
              "    <tr>\n",
              "      <th>36238816</th>\n",
              "      <td>&lt;p&gt;Is it possible to use stomp over sockjs wit...</td>\n",
              "      <td>Is it possible to use stomp over sockjs withou...</td>\n",
              "    </tr>\n",
              "    <tr>\n",
              "      <th>35817959</th>\n",
              "      <td>&lt;p&gt;When creating a table in knex migrations, I...</td>\n",
              "      <td>When creating a table in knex migrations, I ha...</td>\n",
              "    </tr>\n",
              "    <tr>\n",
              "      <th>284518</th>\n",
              "      <td>&lt;p&gt;I was recently diagnosed with a cascading d...</td>\n",
              "      <td>I was recently diagnosed with a cascading diss...</td>\n",
              "    </tr>\n",
              "    <tr>\n",
              "      <th>3516538</th>\n",
              "      <td>&lt;p&gt;I am fairly new to Maven and pom.xml. Is th...</td>\n",
              "      <td>I am fairly new to Maven and pom.xml. Is there...</td>\n",
              "    </tr>\n",
              "  </tbody>\n",
              "</table>\n",
              "</div>"
            ],
            "text/plain": [
              "                                                       Body  \\\n",
              "Id                                                            \n",
              "20888619  <p>I used Drag and Drop to bind Data Source ob...   \n",
              "36238816  <p>Is it possible to use stomp over sockjs wit...   \n",
              "35817959  <p>When creating a table in knex migrations, I...   \n",
              "284518    <p>I was recently diagnosed with a cascading d...   \n",
              "3516538   <p>I am fairly new to Maven and pom.xml. Is th...   \n",
              "\n",
              "                                                     Body_1  \n",
              "Id                                                           \n",
              "20888619  I used Drag and Drop to bind Data Source objec...  \n",
              "36238816  Is it possible to use stomp over sockjs withou...  \n",
              "35817959  When creating a table in knex migrations, I ha...  \n",
              "284518    I was recently diagnosed with a cascading diss...  \n",
              "3516538   I am fairly new to Maven and pom.xml. Is there...  "
            ]
          },
          "execution_count": 25,
          "metadata": {},
          "output_type": "execute_result"
        }
      ],
      "source": [
        "import lxml\n",
        "data['Body_1'] = data['Body'].apply(remove_code)\n",
        "# Delete all html tags\n",
        "data['Body_1'] = [BeautifulSoup(text,\"html.parser\").get_text() for text in data['Body_1']]\n",
        "data[['Body','Body_1']].head()"
      ]
    },
    {
      "cell_type": "raw",
      "metadata": {
        "id": "08e54afa"
      },
      "source": [
        "Identification de la nature de chaque mot du corpus afin de pouvoir ensuite conserver uniquement les noms et les verbes."
      ]
    },
    {
      "cell_type": "code",
      "execution_count": null,
      "metadata": {
        "id": "7232cad7"
      },
      "outputs": [],
      "source": [
        "#https://spacy.io/usage/linguistic-features\n",
        "def remove_pos(nlp, x, pos_list):\n",
        "    doc = nlp(x)\n",
        "    list_text_row = []\n",
        "    for token in doc:\n",
        "        if(token.pos_ in pos_list):\n",
        "            list_text_row.append(token.text)\n",
        "    join_text_row = \" \".join(list_text_row)\n",
        "    join_text_row = join_text_row.lower().replace(\"c #\", \"c#\")\n",
        "    return join_text_row"
      ]
    },
    {
      "cell_type": "code",
      "execution_count": null,
      "metadata": {
        "id": "47cfaf11"
      },
      "outputs": [],
      "source": [
        "def clean_text_1(x):\n",
        "    # Remove POS not in \"NOUN\", \"PROPN\", \"VERB\"\n",
        "    x = remove_pos(nlp, x, pos_list)\n",
        "    return x"
      ]
    },
    {
      "cell_type": "code",
      "execution_count": null,
      "metadata": {
        "id": "0727525e",
        "outputId": "89042dc2-8845-45b7-f892-91af15e38ae7"
      },
      "outputs": [
        {
          "data": {
            "text/html": [
              "<div>\n",
              "<style scoped>\n",
              "    .dataframe tbody tr th:only-of-type {\n",
              "        vertical-align: middle;\n",
              "    }\n",
              "\n",
              "    .dataframe tbody tr th {\n",
              "        vertical-align: top;\n",
              "    }\n",
              "\n",
              "    .dataframe thead th {\n",
              "        text-align: right;\n",
              "    }\n",
              "</style>\n",
              "<table border=\"1\" class=\"dataframe\">\n",
              "  <thead>\n",
              "    <tr style=\"text-align: right;\">\n",
              "      <th></th>\n",
              "      <th>Body_1</th>\n",
              "      <th>Body_clean</th>\n",
              "    </tr>\n",
              "    <tr>\n",
              "      <th>Id</th>\n",
              "      <th></th>\n",
              "      <th></th>\n",
              "    </tr>\n",
              "  </thead>\n",
              "  <tbody>\n",
              "    <tr>\n",
              "      <th>20888619</th>\n",
              "      <td>I used Drag and Drop to bind Data Source objec...</td>\n",
              "      <td>used drag drop bind data source object db mode...</td>\n",
              "    </tr>\n",
              "    <tr>\n",
              "      <th>36238816</th>\n",
              "      <td>Is it possible to use stomp over sockjs withou...</td>\n",
              "      <td>use stomp sockjs mvc like have spring rest int...</td>\n",
              "    </tr>\n",
              "    <tr>\n",
              "      <th>35817959</th>\n",
              "      <td>When creating a table in knex migrations, I ha...</td>\n",
              "      <td>creating table knex migrations indicated col d...</td>\n",
              "    </tr>\n",
              "    <tr>\n",
              "      <th>284518</th>\n",
              "      <td>I was recently diagnosed with a cascading diss...</td>\n",
              "      <td>diagnosed cascading disorder retrograde amnesi...</td>\n",
              "    </tr>\n",
              "    <tr>\n",
              "      <th>3516538</th>\n",
              "      <td>I am fairly new to Maven and pom.xml. Is there...</td>\n",
              "      <td>maven pom.xml way find dependencies outdated u...</td>\n",
              "    </tr>\n",
              "  </tbody>\n",
              "</table>\n",
              "</div>"
            ],
            "text/plain": [
              "                                                     Body_1  \\\n",
              "Id                                                            \n",
              "20888619  I used Drag and Drop to bind Data Source objec...   \n",
              "36238816  Is it possible to use stomp over sockjs withou...   \n",
              "35817959  When creating a table in knex migrations, I ha...   \n",
              "284518    I was recently diagnosed with a cascading diss...   \n",
              "3516538   I am fairly new to Maven and pom.xml. Is there...   \n",
              "\n",
              "                                                 Body_clean  \n",
              "Id                                                           \n",
              "20888619  used drag drop bind data source object db mode...  \n",
              "36238816  use stomp sockjs mvc like have spring rest int...  \n",
              "35817959  creating table knex migrations indicated col d...  \n",
              "284518    diagnosed cascading disorder retrograde amnesi...  \n",
              "3516538   maven pom.xml way find dependencies outdated u...  "
            ]
          },
          "execution_count": 28,
          "metadata": {},
          "output_type": "execute_result"
        }
      ],
      "source": [
        "nlp = spacy.load('en_core_web_sm')\n",
        "pos_list = [\"NOUN\",\"PROPN\", \"VERB\"]\n",
        "data['Body_clean'] = data['Body_1'].apply(lambda x: clean_text_1(x))\n",
        "data[['Body_1','Body_clean']].head()"
      ]
    },
    {
      "cell_type": "code",
      "execution_count": null,
      "metadata": {
        "id": "a47cb607"
      },
      "outputs": [],
      "source": [
        "def clean_text_2(x):\n",
        "    # Case normalization\n",
        "    x = x.lower()\n",
        "    # Remove unicode characters\n",
        "    x = x.encode(\"ascii\", \"ignore\").decode()\n",
        "    # Remove English contractions\n",
        "    x = re.sub(\"\\'\\w+\", '', x)\n",
        "    # Remove ponctuation but not # (for C# for example)\n",
        "    x = re.sub('[^\\\\w\\\\s#]', '', x)\n",
        "    # Remove links\n",
        "    x = re.sub(r'http*\\S+', '', x)\n",
        "    # Remove numbers\n",
        "    x = re.sub(r'\\w*\\d+\\w*', '', x)\n",
        "    # Remove extra spaces\n",
        "    x = re.sub('\\s+', ' ', x)\n",
        "    x = re.sub(r\"\\'\\n\", \" \", x)\n",
        "    x = re.sub(r\"\\'\\xa0\", \" \", x)\n",
        "    return x"
      ]
    },
    {
      "cell_type": "code",
      "execution_count": null,
      "metadata": {
        "id": "b316eae1",
        "outputId": "3dad42c4-3925-4677-e259-4447d16daf08"
      },
      "outputs": [
        {
          "data": {
            "text/html": [
              "<div>\n",
              "<style scoped>\n",
              "    .dataframe tbody tr th:only-of-type {\n",
              "        vertical-align: middle;\n",
              "    }\n",
              "\n",
              "    .dataframe tbody tr th {\n",
              "        vertical-align: top;\n",
              "    }\n",
              "\n",
              "    .dataframe thead th {\n",
              "        text-align: right;\n",
              "    }\n",
              "</style>\n",
              "<table border=\"1\" class=\"dataframe\">\n",
              "  <thead>\n",
              "    <tr style=\"text-align: right;\">\n",
              "      <th></th>\n",
              "      <th>Body_clean</th>\n",
              "      <th>Body_2</th>\n",
              "    </tr>\n",
              "    <tr>\n",
              "      <th>Id</th>\n",
              "      <th></th>\n",
              "      <th></th>\n",
              "    </tr>\n",
              "  </thead>\n",
              "  <tbody>\n",
              "    <tr>\n",
              "      <th>20888619</th>\n",
              "      <td>used drag drop bind data source object db mode...</td>\n",
              "      <td>used drag drop bind data source object db mode...</td>\n",
              "    </tr>\n",
              "    <tr>\n",
              "      <th>36238816</th>\n",
              "      <td>use stomp sockjs mvc like have spring rest int...</td>\n",
              "      <td>use stomp sockjs mvc like have spring rest int...</td>\n",
              "    </tr>\n",
              "    <tr>\n",
              "      <th>35817959</th>\n",
              "      <td>creating table knex migrations indicated col d...</td>\n",
              "      <td>creating table knex migrations indicated col d...</td>\n",
              "    </tr>\n",
              "    <tr>\n",
              "      <th>284518</th>\n",
              "      <td>diagnosed cascading disorder retrograde amnesi...</td>\n",
              "      <td>diagnosed cascading disorder retrograde amnesi...</td>\n",
              "    </tr>\n",
              "    <tr>\n",
              "      <th>3516538</th>\n",
              "      <td>maven pom.xml way find dependencies outdated u...</td>\n",
              "      <td>maven pomxml way find dependencies outdated up...</td>\n",
              "    </tr>\n",
              "  </tbody>\n",
              "</table>\n",
              "</div>"
            ],
            "text/plain": [
              "                                                 Body_clean  \\\n",
              "Id                                                            \n",
              "20888619  used drag drop bind data source object db mode...   \n",
              "36238816  use stomp sockjs mvc like have spring rest int...   \n",
              "35817959  creating table knex migrations indicated col d...   \n",
              "284518    diagnosed cascading disorder retrograde amnesi...   \n",
              "3516538   maven pom.xml way find dependencies outdated u...   \n",
              "\n",
              "                                                     Body_2  \n",
              "Id                                                           \n",
              "20888619  used drag drop bind data source object db mode...  \n",
              "36238816  use stomp sockjs mvc like have spring rest int...  \n",
              "35817959  creating table knex migrations indicated col d...  \n",
              "284518    diagnosed cascading disorder retrograde amnesi...  \n",
              "3516538   maven pomxml way find dependencies outdated up...  "
            ]
          },
          "execution_count": 30,
          "metadata": {},
          "output_type": "execute_result"
        }
      ],
      "source": [
        "data['Body_2'] = data['Body_clean'].apply(lambda x: clean_text_2(x))\n",
        "data[['Body_clean', 'Body_2']].head()"
      ]
    },
    {
      "cell_type": "code",
      "execution_count": null,
      "metadata": {
        "id": "803218c8",
        "outputId": "60679c95-1765-4072-d795-51fe4bf52709"
      },
      "outputs": [
        {
          "data": {
            "text/plain": [
              "'!\"#$%&\\'()*+,-./:;<=>?@[\\\\]^_`{|}~'"
            ]
          },
          "execution_count": 31,
          "metadata": {},
          "output_type": "execute_result"
        }
      ],
      "source": [
        "token=ToktokTokenizer()\n",
        "punctuation"
      ]
    },
    {
      "cell_type": "code",
      "execution_count": null,
      "metadata": {
        "id": "8884cb64"
      },
      "outputs": [],
      "source": [
        "punct = '!\"#$%&\\'()*+,./:;<=>?@[\\\\]^_`{|}~'"
      ]
    },
    {
      "cell_type": "code",
      "execution_count": null,
      "metadata": {
        "id": "6c3c37fb"
      },
      "outputs": [],
      "source": [
        "def strip_list_noempty(mylist):\n",
        "    newlist = (item.strip() if hasattr(item, 'strip') else item for item in mylist)\n",
        "    return [item for item in newlist if item != '']"
      ]
    },
    {
      "cell_type": "code",
      "execution_count": null,
      "metadata": {
        "id": "74fdb22c"
      },
      "outputs": [],
      "source": [
        "def clean_punct(text): \n",
        "    words=token.tokenize(text)\n",
        "    punctuation_filtered = []\n",
        "    regex = re.compile('[%s]' % re.escape(punct))\n",
        "    remove_punctuation = str.maketrans(' ', ' ', punct)\n",
        "    for w in words:\n",
        "        if w in data['Tags']:\n",
        "            punctuation_filtered.append(w)\n",
        "        else:\n",
        "            punctuation_filtered.append(regex.sub('', w))\n",
        "  \n",
        "    filtered_list = strip_list_noempty(punctuation_filtered)\n",
        "        \n",
        "    return ' '.join(map(str, filtered_list))"
      ]
    },
    {
      "cell_type": "code",
      "execution_count": null,
      "metadata": {
        "id": "95815a87",
        "outputId": "cc63cc92-1764-44dc-bdfd-31e67a34575a"
      },
      "outputs": [
        {
          "data": {
            "text/html": [
              "<div>\n",
              "<style scoped>\n",
              "    .dataframe tbody tr th:only-of-type {\n",
              "        vertical-align: middle;\n",
              "    }\n",
              "\n",
              "    .dataframe tbody tr th {\n",
              "        vertical-align: top;\n",
              "    }\n",
              "\n",
              "    .dataframe thead th {\n",
              "        text-align: right;\n",
              "    }\n",
              "</style>\n",
              "<table border=\"1\" class=\"dataframe\">\n",
              "  <thead>\n",
              "    <tr style=\"text-align: right;\">\n",
              "      <th></th>\n",
              "      <th>Body_2</th>\n",
              "      <th>Body_3</th>\n",
              "    </tr>\n",
              "    <tr>\n",
              "      <th>Id</th>\n",
              "      <th></th>\n",
              "      <th></th>\n",
              "    </tr>\n",
              "  </thead>\n",
              "  <tbody>\n",
              "    <tr>\n",
              "      <th>20888619</th>\n",
              "      <td>used drag drop bind data source object db mode...</td>\n",
              "      <td>used drag drop bind data source object db mode...</td>\n",
              "    </tr>\n",
              "    <tr>\n",
              "      <th>36238816</th>\n",
              "      <td>use stomp sockjs mvc like have spring rest int...</td>\n",
              "      <td>use stomp sockjs mvc like have spring rest int...</td>\n",
              "    </tr>\n",
              "    <tr>\n",
              "      <th>35817959</th>\n",
              "      <td>creating table knex migrations indicated col d...</td>\n",
              "      <td>creating table knex migrations indicated col d...</td>\n",
              "    </tr>\n",
              "    <tr>\n",
              "      <th>284518</th>\n",
              "      <td>diagnosed cascading disorder retrograde amnesi...</td>\n",
              "      <td>diagnosed cascading disorder retrograde amnesi...</td>\n",
              "    </tr>\n",
              "    <tr>\n",
              "      <th>3516538</th>\n",
              "      <td>maven pomxml way find dependencies outdated up...</td>\n",
              "      <td>maven pomxml way find dependencies outdated up...</td>\n",
              "    </tr>\n",
              "  </tbody>\n",
              "</table>\n",
              "</div>"
            ],
            "text/plain": [
              "                                                     Body_2  \\\n",
              "Id                                                            \n",
              "20888619  used drag drop bind data source object db mode...   \n",
              "36238816  use stomp sockjs mvc like have spring rest int...   \n",
              "35817959  creating table knex migrations indicated col d...   \n",
              "284518    diagnosed cascading disorder retrograde amnesi...   \n",
              "3516538   maven pomxml way find dependencies outdated up...   \n",
              "\n",
              "                                                     Body_3  \n",
              "Id                                                           \n",
              "20888619  used drag drop bind data source object db mode...  \n",
              "36238816  use stomp sockjs mvc like have spring rest int...  \n",
              "35817959  creating table knex migrations indicated col d...  \n",
              "284518    diagnosed cascading disorder retrograde amnesi...  \n",
              "3516538   maven pomxml way find dependencies outdated up...  "
            ]
          },
          "execution_count": 35,
          "metadata": {},
          "output_type": "execute_result"
        }
      ],
      "source": [
        "data['Body_3'] = data['Body_2'].apply(lambda x: clean_punct(x)) \n",
        "data[['Body_2', 'Body_3']].head(5)"
      ]
    },
    {
      "cell_type": "raw",
      "metadata": {
        "id": "09aea615"
      },
      "source": [
        "Suppression de tous les stop words en langue Anglaise\n",
        "\n"
      ]
    },
    {
      "cell_type": "code",
      "execution_count": null,
      "metadata": {
        "id": "38fbfe19"
      },
      "outputs": [],
      "source": [
        "def stopWordsRemove(text):\n",
        "    stop_words = set(stopwords.words(\"english\"))\n",
        "    words=token.tokenize(text)\n",
        "    filtered = [w for w in words if not w in stop_words]\n",
        "    return ' '.join(map(str, filtered))"
      ]
    },
    {
      "cell_type": "code",
      "execution_count": null,
      "metadata": {
        "outputId": "5ec88c65-f799-491b-c82f-78a52b9a3b6e",
        "id": "_D0LEnW-dd3l"
      },
      "outputs": [
        {
          "data": {
            "text/html": [
              "<div>\n",
              "<style scoped>\n",
              "    .dataframe tbody tr th:only-of-type {\n",
              "        vertical-align: middle;\n",
              "    }\n",
              "\n",
              "    .dataframe tbody tr th {\n",
              "        vertical-align: top;\n",
              "    }\n",
              "\n",
              "    .dataframe thead th {\n",
              "        text-align: right;\n",
              "    }\n",
              "</style>\n",
              "<table border=\"1\" class=\"dataframe\">\n",
              "  <thead>\n",
              "    <tr style=\"text-align: right;\">\n",
              "      <th></th>\n",
              "      <th>Body_3</th>\n",
              "      <th>Body_4</th>\n",
              "    </tr>\n",
              "    <tr>\n",
              "      <th>Id</th>\n",
              "      <th></th>\n",
              "      <th></th>\n",
              "    </tr>\n",
              "  </thead>\n",
              "  <tbody>\n",
              "    <tr>\n",
              "      <th>20888619</th>\n",
              "      <td>used drag drop bind data source object db mode...</td>\n",
              "      <td>used drag drop bind data source object db mode...</td>\n",
              "    </tr>\n",
              "    <tr>\n",
              "      <th>36238816</th>\n",
              "      <td>use stomp sockjs mvc like have spring rest int...</td>\n",
              "      <td>use stomp sockjs mvc like spring rest interfac...</td>\n",
              "    </tr>\n",
              "    <tr>\n",
              "      <th>35817959</th>\n",
              "      <td>creating table knex migrations indicated col d...</td>\n",
              "      <td>creating table knex migrations indicated col d...</td>\n",
              "    </tr>\n",
              "    <tr>\n",
              "      <th>284518</th>\n",
              "      <td>diagnosed cascading disorder retrograde amnesi...</td>\n",
              "      <td>diagnosed cascading disorder retrograde amnesi...</td>\n",
              "    </tr>\n",
              "    <tr>\n",
              "      <th>3516538</th>\n",
              "      <td>maven pomxml way find dependencies outdated up...</td>\n",
              "      <td>maven pomxml way find dependencies outdated up...</td>\n",
              "    </tr>\n",
              "  </tbody>\n",
              "</table>\n",
              "</div>"
            ],
            "text/plain": [
              "                                                     Body_3  \\\n",
              "Id                                                            \n",
              "20888619  used drag drop bind data source object db mode...   \n",
              "36238816  use stomp sockjs mvc like have spring rest int...   \n",
              "35817959  creating table knex migrations indicated col d...   \n",
              "284518    diagnosed cascading disorder retrograde amnesi...   \n",
              "3516538   maven pomxml way find dependencies outdated up...   \n",
              "\n",
              "                                                     Body_4  \n",
              "Id                                                           \n",
              "20888619  used drag drop bind data source object db mode...  \n",
              "36238816  use stomp sockjs mvc like spring rest interfac...  \n",
              "35817959  creating table knex migrations indicated col d...  \n",
              "284518    diagnosed cascading disorder retrograde amnesi...  \n",
              "3516538   maven pomxml way find dependencies outdated up...  "
            ]
          },
          "execution_count": 37,
          "metadata": {},
          "output_type": "execute_result"
        }
      ],
      "source": [
        "data['Body_4'] = data['Body_3'].apply(lambda x: stopWordsRemove(x))\n",
        "data[['Body_3', 'Body_4']].head()"
      ]
    },
    {
      "cell_type": "raw",
      "metadata": {
        "id": "638d19ea"
      },
      "source": [
        "Effectuer est la Lemmatisation. Ce procédé consiste à prend le mot à sa forme racine appelée Lemme. "
      ]
    },
    {
      "cell_type": "code",
      "execution_count": null,
      "metadata": {
        "id": "d0dd2cb5"
      },
      "outputs": [],
      "source": [
        "lemma=WordNetLemmatizer()\n",
        "def lemitizeWords(text):\n",
        "    words=token.tokenize(text)\n",
        "    listLemma=[]\n",
        "    for w in words:\n",
        "        x=lemma.lemmatize(w, pos=\"v\")\n",
        "        listLemma.append(x)\n",
        "    return ' '.join(map(str, listLemma))"
      ]
    },
    {
      "cell_type": "code",
      "execution_count": null,
      "metadata": {
        "id": "dbdd45d0",
        "outputId": "cda6f9ad-e07e-4fcf-b207-fc9106fe1655"
      },
      "outputs": [
        {
          "data": {
            "text/html": [
              "<div>\n",
              "<style scoped>\n",
              "    .dataframe tbody tr th:only-of-type {\n",
              "        vertical-align: middle;\n",
              "    }\n",
              "\n",
              "    .dataframe tbody tr th {\n",
              "        vertical-align: top;\n",
              "    }\n",
              "\n",
              "    .dataframe thead th {\n",
              "        text-align: right;\n",
              "    }\n",
              "</style>\n",
              "<table border=\"1\" class=\"dataframe\">\n",
              "  <thead>\n",
              "    <tr style=\"text-align: right;\">\n",
              "      <th></th>\n",
              "      <th>Body_4</th>\n",
              "      <th>Body_5</th>\n",
              "    </tr>\n",
              "    <tr>\n",
              "      <th>Id</th>\n",
              "      <th></th>\n",
              "      <th></th>\n",
              "    </tr>\n",
              "  </thead>\n",
              "  <tbody>\n",
              "    <tr>\n",
              "      <th>20888619</th>\n",
              "      <td>used drag drop bind data source object db mode...</td>\n",
              "      <td>use drag drop bind data source object db model...</td>\n",
              "    </tr>\n",
              "    <tr>\n",
              "      <th>36238816</th>\n",
              "      <td>use stomp sockjs mvc like spring rest interfac...</td>\n",
              "      <td>use stomp sockjs mvc like spring rest interfac...</td>\n",
              "    </tr>\n",
              "    <tr>\n",
              "      <th>35817959</th>\n",
              "      <td>creating table knex migrations indicated col d...</td>\n",
              "      <td>create table knex migrations indicate col defa...</td>\n",
              "    </tr>\n",
              "    <tr>\n",
              "      <th>284518</th>\n",
              "      <td>diagnosed cascading disorder retrograde amnesi...</td>\n",
              "      <td>diagnose cascade disorder retrograde amnesia a...</td>\n",
              "    </tr>\n",
              "    <tr>\n",
              "      <th>3516538</th>\n",
              "      <td>maven pomxml way find dependencies outdated up...</td>\n",
              "      <td>maven pomxml way find dependencies outdated up...</td>\n",
              "    </tr>\n",
              "  </tbody>\n",
              "</table>\n",
              "</div>"
            ],
            "text/plain": [
              "                                                     Body_4  \\\n",
              "Id                                                            \n",
              "20888619  used drag drop bind data source object db mode...   \n",
              "36238816  use stomp sockjs mvc like spring rest interfac...   \n",
              "35817959  creating table knex migrations indicated col d...   \n",
              "284518    diagnosed cascading disorder retrograde amnesi...   \n",
              "3516538   maven pomxml way find dependencies outdated up...   \n",
              "\n",
              "                                                     Body_5  \n",
              "Id                                                           \n",
              "20888619  use drag drop bind data source object db model...  \n",
              "36238816  use stomp sockjs mvc like spring rest interfac...  \n",
              "35817959  create table knex migrations indicate col defa...  \n",
              "284518    diagnose cascade disorder retrograde amnesia a...  \n",
              "3516538   maven pomxml way find dependencies outdated up...  "
            ]
          },
          "execution_count": 39,
          "metadata": {},
          "output_type": "execute_result"
        }
      ],
      "source": [
        "data['Body_5'] = data['Body_4'].apply(lambda x: lemitizeWords(x))\n",
        "data[['Body_4', 'Body_5']].head()"
      ]
    },
    {
      "cell_type": "code",
      "execution_count": null,
      "metadata": {
        "id": "6b04e48d",
        "outputId": "6edb046c-6d46-4e4a-f5b9-ba5f63961d8f"
      },
      "outputs": [
        {
          "data": {
            "text/html": [
              "<div>\n",
              "<style scoped>\n",
              "    .dataframe tbody tr th:only-of-type {\n",
              "        vertical-align: middle;\n",
              "    }\n",
              "\n",
              "    .dataframe tbody tr th {\n",
              "        vertical-align: top;\n",
              "    }\n",
              "\n",
              "    .dataframe thead th {\n",
              "        text-align: right;\n",
              "    }\n",
              "</style>\n",
              "<table border=\"1\" class=\"dataframe\">\n",
              "  <thead>\n",
              "    <tr style=\"text-align: right;\">\n",
              "      <th></th>\n",
              "      <th>Body_5</th>\n",
              "      <th>Body_6</th>\n",
              "    </tr>\n",
              "    <tr>\n",
              "      <th>Id</th>\n",
              "      <th></th>\n",
              "      <th></th>\n",
              "    </tr>\n",
              "  </thead>\n",
              "  <tbody>\n",
              "    <tr>\n",
              "      <th>20888619</th>\n",
              "      <td>use drag drop bind data source object db model...</td>\n",
              "      <td>[use, drag, drop, bind, data, source, object, ...</td>\n",
              "    </tr>\n",
              "    <tr>\n",
              "      <th>36238816</th>\n",
              "      <td>use stomp sockjs mvc like spring rest interfac...</td>\n",
              "      <td>[use, stomp, sockjs, mvc, like, spring, rest, ...</td>\n",
              "    </tr>\n",
              "    <tr>\n",
              "      <th>35817959</th>\n",
              "      <td>create table knex migrations indicate col defa...</td>\n",
              "      <td>[create, table, knex, migrations, indicate, co...</td>\n",
              "    </tr>\n",
              "    <tr>\n",
              "      <th>284518</th>\n",
              "      <td>diagnose cascade disorder retrograde amnesia a...</td>\n",
              "      <td>[diagnose, cascade, disorder, retrograde, amne...</td>\n",
              "    </tr>\n",
              "    <tr>\n",
              "      <th>3516538</th>\n",
              "      <td>maven pomxml way find dependencies outdated up...</td>\n",
              "      <td>[maven, pomxml, way, find, dependencies, outda...</td>\n",
              "    </tr>\n",
              "  </tbody>\n",
              "</table>\n",
              "</div>"
            ],
            "text/plain": [
              "                                                     Body_5  \\\n",
              "Id                                                            \n",
              "20888619  use drag drop bind data source object db model...   \n",
              "36238816  use stomp sockjs mvc like spring rest interfac...   \n",
              "35817959  create table knex migrations indicate col defa...   \n",
              "284518    diagnose cascade disorder retrograde amnesia a...   \n",
              "3516538   maven pomxml way find dependencies outdated up...   \n",
              "\n",
              "                                                     Body_6  \n",
              "Id                                                           \n",
              "20888619  [use, drag, drop, bind, data, source, object, ...  \n",
              "36238816  [use, stomp, sockjs, mvc, like, spring, rest, ...  \n",
              "35817959  [create, table, knex, migrations, indicate, co...  \n",
              "284518    [diagnose, cascade, disorder, retrograde, amne...  \n",
              "3516538   [maven, pomxml, way, find, dependencies, outda...  "
            ]
          },
          "execution_count": 40,
          "metadata": {},
          "output_type": "execute_result"
        }
      ],
      "source": [
        "data['Body_6'] = data.Body_5.apply(nltk.tokenize.word_tokenize)\n",
        "data[['Body_5', 'Body_6']].head()"
      ]
    },
    {
      "cell_type": "code",
      "execution_count": null,
      "metadata": {
        "id": "0264512e",
        "outputId": "37edb167-9691-4524-b447-8c1ad2a3ceda"
      },
      "outputs": [
        {
          "name": "stderr",
          "output_type": "stream",
          "text": [
            "No handles with labels found to put in legend.\n"
          ]
        },
        {
          "data": {
            "image/png": "[encoded data removed]",
            "text/plain": [
              "<Figure size 1440x864 with 1 Axes>"
            ]
          },
          "metadata": {
            "needs_background": "light"
          },
          "output_type": "display_data"
        }
      ],
      "source": [
        "# Discretizer for Body characters lenght\n",
        "X = pd.DataFrame(data.Body_6.str.len())\n",
        "# Sklearn discretizer with 200 bins\n",
        "discretizer = KBinsDiscretizer(n_bins=200,\n",
        "                               encode='ordinal',\n",
        "                               strategy='uniform')\n",
        "body_lenght = discretizer.fit_transform(X)\n",
        "body_lenght = discretizer.inverse_transform(body_lenght)\n",
        "body_lenght = pd.Series(body_lenght.reshape(-1))\n",
        "fig = plt.figure(figsize=(20, 12))\n",
        "ax = sns.countplot(x=body_lenght)\n",
        "start, end = ax.get_xlim()\n",
        "ax.xaxis.set_ticks(np.arange(0, end, 25))\n",
        "ax.set_xlabel(\"Length of Body after discretization\")\n",
        "plt.title(\"Body lenght of Stackoverflow questions\",\n",
        "          fontsize=18, color=\"#641E16\")\n",
        "plt.legend()\n",
        "plt.show()"
      ]
    },
    {
      "cell_type": "raw",
      "metadata": {
        "id": "ed36f992"
      },
      "source": [
        "Visualisation de la répartition de la taille des corpus"
      ]
    },
    {
      "cell_type": "code",
      "execution_count": null,
      "metadata": {
        "id": "46f53b5e",
        "outputId": "39430764-b2a1-4a01-dcb3-7354221fbb81"
      },
      "outputs": [
        {
          "data": {
            "image/png": "[encoded data removed]",
            "text/plain": [
              "<Figure size 1440x864 with 1 Axes>"
            ]
          },
          "metadata": {
            "needs_background": "light"
          },
          "output_type": "display_data"
        }
      ],
      "source": [
        "# Calculate lenght of each list in Body\n",
        "data['body_tokens_count'] = [len(_) for _ in data.Body_6]\n",
        "\n",
        "# Countplot of body lenght\n",
        "fig = plt.figure(figsize=(20, 12))\n",
        "ax = sns.countplot(x=data.body_tokens_count)\n",
        "start, end = ax.get_xlim()\n",
        "ax.xaxis.set_ticks(np.arange(0, end, 25))\n",
        "plot_median = data.body_tokens_count.median()\n",
        "plt.axvline(plot_median - data.body_tokens_count.min(),\n",
        "            color=\"r\", linestyle='--',\n",
        "            label=\"Body tokens Lenght median : \"+str(plot_median))\n",
        "ax.set_xlabel(\"Lenght of body tokens\")\n",
        "plt.title(\"Body tokens lenght of Stackoverflow questions after cleaning\",\n",
        "          fontsize=18, color=\"#641E16\")\n",
        "plt.legend()\n",
        "plt.show()"
      ]
    },
    {
      "cell_type": "raw",
      "metadata": {
        "id": "836c4c66"
      },
      "source": [
        "Les fréquences de chaque mots de la variable Body"
      ]
    },
    {
      "cell_type": "code",
      "execution_count": null,
      "metadata": {
        "id": "99813c1b",
        "outputId": "fd4f123e-6e51-489d-cccd-730176017df8"
      },
      "outputs": [
        {
          "data": {
            "text/html": [
              "<div>\n",
              "<style scoped>\n",
              "    .dataframe tbody tr th:only-of-type {\n",
              "        vertical-align: middle;\n",
              "    }\n",
              "\n",
              "    .dataframe tbody tr th {\n",
              "        vertical-align: top;\n",
              "    }\n",
              "\n",
              "    .dataframe thead th {\n",
              "        text-align: right;\n",
              "    }\n",
              "</style>\n",
              "<table border=\"1\" class=\"dataframe\">\n",
              "  <thead>\n",
              "    <tr style=\"text-align: right;\">\n",
              "      <th></th>\n",
              "      <th>Word</th>\n",
              "      <th>Frequency</th>\n",
              "    </tr>\n",
              "  </thead>\n",
              "  <tbody>\n",
              "    <tr>\n",
              "      <th>0</th>\n",
              "      <td>use</td>\n",
              "      <td>62443</td>\n",
              "    </tr>\n",
              "    <tr>\n",
              "      <th>1</th>\n",
              "      <td>work</td>\n",
              "      <td>26043</td>\n",
              "    </tr>\n",
              "    <tr>\n",
              "      <th>2</th>\n",
              "      <td>code</td>\n",
              "      <td>25316</td>\n",
              "    </tr>\n",
              "    <tr>\n",
              "      <th>3</th>\n",
              "      <td>get</td>\n",
              "      <td>24264</td>\n",
              "    </tr>\n",
              "    <tr>\n",
              "      <th>4</th>\n",
              "      <td>try</td>\n",
              "      <td>23975</td>\n",
              "    </tr>\n",
              "    <tr>\n",
              "      <th>...</th>\n",
              "      <td>...</td>\n",
              "      <td>...</td>\n",
              "    </tr>\n",
              "    <tr>\n",
              "      <th>4995</th>\n",
              "      <td>mainwindow</td>\n",
              "      <td>20</td>\n",
              "    </tr>\n",
              "    <tr>\n",
              "      <th>4996</th>\n",
              "      <td>grok</td>\n",
              "      <td>20</td>\n",
              "    </tr>\n",
              "    <tr>\n",
              "      <th>4997</th>\n",
              "      <td>ghostscript</td>\n",
              "      <td>20</td>\n",
              "    </tr>\n",
              "    <tr>\n",
              "      <th>4998</th>\n",
              "      <td>autoincrement</td>\n",
              "      <td>20</td>\n",
              "    </tr>\n",
              "    <tr>\n",
              "      <th>4999</th>\n",
              "      <td>openshift</td>\n",
              "      <td>20</td>\n",
              "    </tr>\n",
              "  </tbody>\n",
              "</table>\n",
              "<p>5000 rows × 2 columns</p>\n",
              "</div>"
            ],
            "text/plain": [
              "               Word  Frequency\n",
              "0               use      62443\n",
              "1              work      26043\n",
              "2              code      25316\n",
              "3               get      24264\n",
              "4               try      23975\n",
              "...             ...        ...\n",
              "4995     mainwindow         20\n",
              "4996           grok         20\n",
              "4997    ghostscript         20\n",
              "4998  autoincrement         20\n",
              "4999      openshift         20\n",
              "\n",
              "[5000 rows x 2 columns]"
            ]
          },
          "execution_count": 32,
          "metadata": {},
          "output_type": "execute_result"
        }
      ],
      "source": [
        "full_corpus = []\n",
        "for i in data['Body_6']:\n",
        "    full_corpus.extend(i)\n",
        "\n",
        "body_dist = nltk.FreqDist(full_corpus)\n",
        "body_dist = pd.DataFrame(body_dist.most_common(5000),\n",
        "                         columns=['Word', 'Frequency'])\n",
        "body_dist"
      ]
    },
    {
      "cell_type": "code",
      "execution_count": null,
      "metadata": {
        "id": "24f2840c",
        "outputId": "b35a820e-bef3-48bb-9ae2-546c7f236eb2"
      },
      "outputs": [
        {
          "data": {
            "text/html": [
              "<div>\n",
              "<style scoped>\n",
              "    .dataframe tbody tr th:only-of-type {\n",
              "        vertical-align: middle;\n",
              "    }\n",
              "\n",
              "    .dataframe tbody tr th {\n",
              "        vertical-align: top;\n",
              "    }\n",
              "\n",
              "    .dataframe thead th {\n",
              "        text-align: right;\n",
              "    }\n",
              "</style>\n",
              "<table border=\"1\" class=\"dataframe\">\n",
              "  <thead>\n",
              "    <tr style=\"text-align: right;\">\n",
              "      <th></th>\n",
              "      <th>Frequency</th>\n",
              "    </tr>\n",
              "  </thead>\n",
              "  <tbody>\n",
              "    <tr>\n",
              "      <th>count</th>\n",
              "      <td>5000.00000</td>\n",
              "    </tr>\n",
              "    <tr>\n",
              "      <th>mean</th>\n",
              "      <td>446.14580</td>\n",
              "    </tr>\n",
              "    <tr>\n",
              "      <th>std</th>\n",
              "      <td>1690.67124</td>\n",
              "    </tr>\n",
              "    <tr>\n",
              "      <th>min</th>\n",
              "      <td>20.00000</td>\n",
              "    </tr>\n",
              "    <tr>\n",
              "      <th>25%</th>\n",
              "      <td>34.00000</td>\n",
              "    </tr>\n",
              "    <tr>\n",
              "      <th>50%</th>\n",
              "      <td>72.00000</td>\n",
              "    </tr>\n",
              "    <tr>\n",
              "      <th>75%</th>\n",
              "      <td>239.00000</td>\n",
              "    </tr>\n",
              "    <tr>\n",
              "      <th>max</th>\n",
              "      <td>62443.00000</td>\n",
              "    </tr>\n",
              "  </tbody>\n",
              "</table>\n",
              "</div>"
            ],
            "text/plain": [
              "         Frequency\n",
              "count   5000.00000\n",
              "mean     446.14580\n",
              "std     1690.67124\n",
              "min       20.00000\n",
              "25%       34.00000\n",
              "50%       72.00000\n",
              "75%      239.00000\n",
              "max    62443.00000"
            ]
          },
          "execution_count": 33,
          "metadata": {},
          "output_type": "execute_result"
        }
      ],
      "source": [
        "body_dist.describe()"
      ]
    },
    {
      "cell_type": "raw",
      "metadata": {
        "id": "291da32c"
      },
      "source": [
        "75% des 5000 mots les plus communs apparaissent 239 fois alors que le maximum est à 62443"
      ]
    },
    {
      "cell_type": "code",
      "execution_count": null,
      "metadata": {
        "id": "3b7df1ac",
        "outputId": "4e9607d7-6f16-4f5d-8193-eb22e6205f1d"
      },
      "outputs": [
        {
          "data": {
            "text/html": [
              "<div>\n",
              "<style scoped>\n",
              "    .dataframe tbody tr th:only-of-type {\n",
              "        vertical-align: middle;\n",
              "    }\n",
              "\n",
              "    .dataframe tbody tr th {\n",
              "        vertical-align: top;\n",
              "    }\n",
              "\n",
              "    .dataframe thead th {\n",
              "        text-align: right;\n",
              "    }\n",
              "</style>\n",
              "<table border=\"1\" class=\"dataframe\">\n",
              "  <thead>\n",
              "    <tr style=\"text-align: right;\">\n",
              "      <th></th>\n",
              "      <th>Word</th>\n",
              "      <th>Frequency</th>\n",
              "    </tr>\n",
              "  </thead>\n",
              "  <tbody>\n",
              "    <tr>\n",
              "      <th>0</th>\n",
              "      <td>use</td>\n",
              "      <td>62443</td>\n",
              "    </tr>\n",
              "    <tr>\n",
              "      <th>1</th>\n",
              "      <td>work</td>\n",
              "      <td>26043</td>\n",
              "    </tr>\n",
              "    <tr>\n",
              "      <th>2</th>\n",
              "      <td>code</td>\n",
              "      <td>25316</td>\n",
              "    </tr>\n",
              "    <tr>\n",
              "      <th>3</th>\n",
              "      <td>get</td>\n",
              "      <td>24264</td>\n",
              "    </tr>\n",
              "    <tr>\n",
              "      <th>4</th>\n",
              "      <td>try</td>\n",
              "      <td>23975</td>\n",
              "    </tr>\n",
              "    <tr>\n",
              "      <th>...</th>\n",
              "      <td>...</td>\n",
              "      <td>...</td>\n",
              "    </tr>\n",
              "    <tr>\n",
              "      <th>4995</th>\n",
              "      <td>mainwindow</td>\n",
              "      <td>20</td>\n",
              "    </tr>\n",
              "    <tr>\n",
              "      <th>4996</th>\n",
              "      <td>grok</td>\n",
              "      <td>20</td>\n",
              "    </tr>\n",
              "    <tr>\n",
              "      <th>4997</th>\n",
              "      <td>ghostscript</td>\n",
              "      <td>20</td>\n",
              "    </tr>\n",
              "    <tr>\n",
              "      <th>4998</th>\n",
              "      <td>autoincrement</td>\n",
              "      <td>20</td>\n",
              "    </tr>\n",
              "    <tr>\n",
              "      <th>4999</th>\n",
              "      <td>openshift</td>\n",
              "      <td>20</td>\n",
              "    </tr>\n",
              "  </tbody>\n",
              "</table>\n",
              "<p>5000 rows × 2 columns</p>\n",
              "</div>"
            ],
            "text/plain": [
              "               Word  Frequency\n",
              "0               use      62443\n",
              "1              work      26043\n",
              "2              code      25316\n",
              "3               get      24264\n",
              "4               try      23975\n",
              "...             ...        ...\n",
              "4995     mainwindow         20\n",
              "4996           grok         20\n",
              "4997    ghostscript         20\n",
              "4998  autoincrement         20\n",
              "4999      openshift         20\n",
              "\n",
              "[5000 rows x 2 columns]"
            ]
          },
          "execution_count": 34,
          "metadata": {},
          "output_type": "execute_result"
        }
      ],
      "source": [
        "body_dist"
      ]
    },
    {
      "cell_type": "markdown",
      "metadata": {
        "id": "df6b2717"
      },
      "source": [
        "## Nettoyage des titres"
      ]
    },
    {
      "cell_type": "code",
      "execution_count": null,
      "metadata": {
        "id": "35d22e55"
      },
      "outputs": [],
      "source": [
        "data['Title_1'] = data['Title'].apply(lambda x: str(x))\n",
        "data['Title_2'] = data['Title_1'].apply(lambda x: clean_text_1(x))\n",
        "data['Title_3'] = data['Title_2'].apply(lambda x: clean_text_2(x)) \n",
        "data['Title_4'] = data['Title_3'].apply(lambda x: clean_punct(x)) \n",
        "data['Title_5'] = data['Title_4'].apply(lambda x: stopWordsRemove(x)) \n",
        "data['Title_6'] = data['Title_5'].apply(lambda x: lemitizeWords(x))  "
      ]
    },
    {
      "cell_type": "code",
      "execution_count": null,
      "metadata": {
        "id": "6398a5ce"
      },
      "outputs": [],
      "source": [
        "data['Title_7'] = data.Title_6.apply(nltk.tokenize.word_tokenize)"
      ]
    },
    {
      "cell_type": "code",
      "execution_count": null,
      "metadata": {
        "id": "ff2946e6"
      },
      "outputs": [],
      "source": [
        "data['Tags_list'] = data['Tags'].str.split()"
      ]
    },
    {
      "cell_type": "code",
      "execution_count": null,
      "metadata": {
        "id": "7bc17934"
      },
      "outputs": [],
      "source": [
        "data_new = data[['Title_7', 'Body_6', 'Tags_list']]\n",
        "data_new = data_new.rename(columns={\n",
        "    'Title_7': 'Title',\n",
        "    'Body_6': 'Body',\n",
        "    'Tags_list': 'Tags'\n",
        "})"
      ]
    },
    {
      "cell_type": "code",
      "execution_count": null,
      "metadata": {
        "id": "63c1ceb6"
      },
      "outputs": [],
      "source": [
        "data_new['Question'] = data_new['Title'] + data_new[\"Body\"]"
      ]
    },
    {
      "cell_type": "code",
      "execution_count": null,
      "metadata": {
        "id": "2406119f",
        "outputId": "56a059c3-c19b-446f-c1d7-03336a4f49de"
      },
      "outputs": [
        {
          "data": {
            "text/html": [
              "<div>\n",
              "<style scoped>\n",
              "    .dataframe tbody tr th:only-of-type {\n",
              "        vertical-align: middle;\n",
              "    }\n",
              "\n",
              "    .dataframe tbody tr th {\n",
              "        vertical-align: top;\n",
              "    }\n",
              "\n",
              "    .dataframe thead th {\n",
              "        text-align: right;\n",
              "    }\n",
              "</style>\n",
              "<table border=\"1\" class=\"dataframe\">\n",
              "  <thead>\n",
              "    <tr style=\"text-align: right;\">\n",
              "      <th></th>\n",
              "      <th>Title</th>\n",
              "      <th>Body</th>\n",
              "      <th>Tags</th>\n",
              "      <th>Question</th>\n",
              "    </tr>\n",
              "    <tr>\n",
              "      <th>Id</th>\n",
              "      <th></th>\n",
              "      <th></th>\n",
              "      <th></th>\n",
              "      <th></th>\n",
              "    </tr>\n",
              "  </thead>\n",
              "  <tbody>\n",
              "    <tr>\n",
              "      <th>20888619</th>\n",
              "      <td>[way, use, collectionviewsource, viewmodel]</td>\n",
              "      <td>[use, drag, drop, bind, data, source, object, ...</td>\n",
              "      <td>[c#, wpf, mvvm, datagrid, collectionviewsource]</td>\n",
              "      <td>[way, use, collectionviewsource, viewmodel, us...</td>\n",
              "    </tr>\n",
              "    <tr>\n",
              "      <th>36238816</th>\n",
              "      <td>[spring, boot, rest, websocket, stomp, sockjs]</td>\n",
              "      <td>[use, stomp, sockjs, mvc, like, spring, rest, ...</td>\n",
              "      <td>[spring, tomcat, angular, stomp, sockjs]</td>\n",
              "      <td>[spring, boot, rest, websocket, stomp, sockjs,...</td>\n",
              "    </tr>\n",
              "    <tr>\n",
              "      <th>35817959</th>\n",
              "      <td>[specify, varchar]</td>\n",
              "      <td>[create, table, knex, migrations, indicate, co...</td>\n",
              "      <td>[string, postgresql, knex.js, varchar, postgre...</td>\n",
              "      <td>[specify, varchar, create, table, knex, migrat...</td>\n",
              "    </tr>\n",
              "    <tr>\n",
              "      <th>284518</th>\n",
              "      <td>[amnesia, patient, language, like, clojure]</td>\n",
              "      <td>[diagnose, cascade, disorder, retrograde, amne...</td>\n",
              "      <td>[database, functional-programming, clojure, we...</td>\n",
              "      <td>[amnesia, patient, language, like, clojure, di...</td>\n",
              "    </tr>\n",
              "    <tr>\n",
              "      <th>3516538</th>\n",
              "      <td>[check, update, dependencies]</td>\n",
              "      <td>[maven, pomxml, way, find, dependencies, outda...</td>\n",
              "      <td>[maven, maven-2, maven-3, maven-plugin, depend...</td>\n",
              "      <td>[check, update, dependencies, maven, pomxml, w...</td>\n",
              "    </tr>\n",
              "  </tbody>\n",
              "</table>\n",
              "</div>"
            ],
            "text/plain": [
              "                                                   Title  \\\n",
              "Id                                                         \n",
              "20888619     [way, use, collectionviewsource, viewmodel]   \n",
              "36238816  [spring, boot, rest, websocket, stomp, sockjs]   \n",
              "35817959                              [specify, varchar]   \n",
              "284518       [amnesia, patient, language, like, clojure]   \n",
              "3516538                    [check, update, dependencies]   \n",
              "\n",
              "                                                       Body  \\\n",
              "Id                                                            \n",
              "20888619  [use, drag, drop, bind, data, source, object, ...   \n",
              "36238816  [use, stomp, sockjs, mvc, like, spring, rest, ...   \n",
              "35817959  [create, table, knex, migrations, indicate, co...   \n",
              "284518    [diagnose, cascade, disorder, retrograde, amne...   \n",
              "3516538   [maven, pomxml, way, find, dependencies, outda...   \n",
              "\n",
              "                                                       Tags  \\\n",
              "Id                                                            \n",
              "20888619    [c#, wpf, mvvm, datagrid, collectionviewsource]   \n",
              "36238816           [spring, tomcat, angular, stomp, sockjs]   \n",
              "35817959  [string, postgresql, knex.js, varchar, postgre...   \n",
              "284518    [database, functional-programming, clojure, we...   \n",
              "3516538   [maven, maven-2, maven-3, maven-plugin, depend...   \n",
              "\n",
              "                                                   Question  \n",
              "Id                                                           \n",
              "20888619  [way, use, collectionviewsource, viewmodel, us...  \n",
              "36238816  [spring, boot, rest, websocket, stomp, sockjs,...  \n",
              "35817959  [specify, varchar, create, table, knex, migrat...  \n",
              "284518    [amnesia, patient, language, like, clojure, di...  \n",
              "3516538   [check, update, dependencies, maven, pomxml, w...  "
            ]
          },
          "execution_count": 28,
          "metadata": {},
          "output_type": "execute_result"
        }
      ],
      "source": [
        "data_new.head()"
      ]
    },
    {
      "cell_type": "code",
      "execution_count": null,
      "metadata": {
        "id": "f1ff452c"
      },
      "outputs": [],
      "source": [
        "# Données nettoyées\n",
        "data_new.to_csv('C:/Users/Houda/Documents/OpenClassrooms/P5/data_new.csv',quoting = csv.QUOTE_NONE, escapechar = ' ')"
      ]
    }
  ]
}